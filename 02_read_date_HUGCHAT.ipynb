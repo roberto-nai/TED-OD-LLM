{
 "cells": [
  {
   "cell_type": "code",
   "execution_count": 1,
   "metadata": {},
   "outputs": [],
   "source": [
    "# 02_read_date_HUGCHAT.ipynb\n",
    "# Reads the PDFs and extracts the portion of text contained in the section 'Modalità di apertura delle offerte'; the texts are saved in a CSV file.  \n",
    "# Use https://huggingface.co/chat/    "
   ]
  },
  {
   "cell_type": "code",
   "execution_count": 2,
   "metadata": {},
   "outputs": [],
   "source": [
    "# Force to reload extrernal modules every new cell execution\n",
    "%reload_ext autoreload\n",
    "%autoreload 2"
   ]
  },
  {
   "cell_type": "code",
   "execution_count": 3,
   "metadata": {},
   "outputs": [],
   "source": [
    "### IMPORT ###\n",
    "from pathlib import Path\n",
    "import csv\n",
    "from datetime import datetime\n",
    "import pandas as pd\n",
    "import os \n",
    "from dotenv import load_dotenv # Needed to load the contents of the .env file\n",
    "from hugchat import hugchat\n",
    "from hugchat.login import Login\n",
    "import requests\n",
    "from time import sleep as t_sleep"
   ]
  },
  {
   "cell_type": "code",
   "execution_count": 4,
   "metadata": {},
   "outputs": [],
   "source": [
    "### LOCAL IMPORT ###\n",
    "from config import config_reader\n",
    "from utilities import read_csv_data_to_df, convert_dmy_to_ymd, left_join_df, calculate_accuracy"
   ]
  },
  {
   "cell_type": "code",
   "execution_count": 5,
   "metadata": {},
   "outputs": [],
   "source": [
    "### GLOBALS ###\n",
    "yaml_config = config_reader.config_read_yaml(\"config.yml\", \"config\")\n",
    "# print(yaml_config) # debug\n",
    "data_dir = str(yaml_config[\"DATA_DIR\"])\n",
    "bid_file_text = str(yaml_config[\"FILE_BID_TEXT\"])\n",
    "bid_file_text_date = str(yaml_config[\"FILE_BID_TEXT_DATE\"])\n",
    "bid_file_text_date_label = str(yaml_config[\"FILE_BID_TEXT_DATE_LABEL\"])\n",
    "csv_sep = str(yaml_config[\"CSV_SEP\"])\n",
    "sample_size = int(yaml_config[\"BID_SAMPLE_SIZE\"]) \n",
    "\n",
    "# HugChat\n",
    "load_dotenv() # Load environment variables from the .env file\n",
    "hc_username = os.getenv(\"HC_EMAIL\")\n",
    "hc_password = os.getenv(\"HC_PASS\")\n",
    "time_sleep = int(yaml_config[\"TIME_SLEEP\"]) # To avoid too many requests in a short time\n",
    "suffix = \"HFC\" # CSV suffix containing LLM results"
   ]
  },
  {
   "cell_type": "code",
   "execution_count": 6,
   "metadata": {},
   "outputs": [],
   "source": [
    "### FUNCTIONS ###"
   ]
  },
  {
   "cell_type": "code",
   "execution_count": 6,
   "metadata": {},
   "outputs": [],
   "source": [
    "def llm_test(username:str, passwd:str) -> None:\n",
    "    \"\"\"\n",
    "    Test the connection to the LLM.\n",
    "    \n",
    "    Args:\n",
    "        username (str): login e-mail.\n",
    "        passwd (str): login password.\n",
    "    \"\"\"\n",
    "    try:\n",
    "        # Hugging Face Login\n",
    "        session = Login(username, passwd)\n",
    "        if session.login():\n",
    "            print(\"OK! Successful login to LLM\")\n",
    "        else:\n",
    "            print(\"ERROR! Login failed: invalid session.\")\n",
    "    except Exception as e:\n",
    "        print(f\"ERROR! An unexpected error occurred in LLM test connection: {e}\")"
   ]
  },
  {
   "cell_type": "code",
   "execution_count": 7,
   "metadata": {},
   "outputs": [],
   "source": [
    "# Function for generating LLM response\n",
    "def llm_find_date(text:str, cookies:requests.cookies.RequestsCookieJar):\n",
    "    \"\"\"\n",
    "    Extracts and formats a date from a given text string using HuggingChat. The date is returned in the format dd/mm/yyyy.\n",
    "\n",
    "    Args:\n",
    "        text (str): The text from which the date needs to be extracted. It should contain a date in any recognisable format.\n",
    "        cookies (requests.cookies): Cookie to avoid login.\n",
    "\n",
    "    Returns:\n",
    "        str: A string representing the date in dd/mm/yyyy format. If an error occurs, it returns the error message.\n",
    "    \"\"\"\n",
    "    # Create ChatBot\n",
    "    try:\n",
    "        prompt_input = f\"Please extract and format only the date in this Italian text as yyyy-mm-dd, without adding anything other than the date. Dates can be written as dd.mm.yyyy or dd/mm/yyyy and days and months less than 10 may not have the leading 0 (e.g.: 5.2.2016). Write -1 if date not found. Text: {text}\"\n",
    "        chatbot = hugchat.ChatBot(cookies=cookies.get_dict())\n",
    "        response = chatbot.chat(prompt_input)\n",
    "        print(\"LLM output:\", response)\n",
    "        print(\"-\"*3)\n",
    "        # print(type(response)) # debug\n",
    "        return response    \n",
    "    except Exception as e:\n",
    "        print(f\"ERROR! An unexpected error occurred during the LLM prompt use: {e}\")\n",
    "        return None"
   ]
  },
  {
   "cell_type": "code",
   "execution_count": 8,
   "metadata": {},
   "outputs": [],
   "source": [
    "def process_row(row: pd.Series, cookies:requests.cookies.RequestsCookieJar) -> str:\n",
    "    \"\"\"\n",
    "    Process a single row of the DataFrame. If the 'text' field is not None, call llm_find_date() with the 'text'.\n",
    "\n",
    "    Args:\n",
    "        row (pd.Series): A pandas Series object representing a single row.\n",
    "        cookies (requests.cookies): Cookie to avoid login.\n",
    "    Returns:\n",
    "        str: The date string returned by llm_find_date if 'text' is not None; otherwise, None.\n",
    "    \"\"\"\n",
    "    if pd.notnull(row['text']):\n",
    "        print(\"LLM input:\", row['text'])\n",
    "        t_sleep(time_sleep) # Avoid too many requests\n",
    "        return llm_find_date(row['text'], cookies)\n",
    "    return None  # Return None if 'text' is None"
   ]
  },
  {
   "cell_type": "code",
   "execution_count": 9,
   "metadata": {},
   "outputs": [
    {
     "name": "stdout",
     "output_type": "stream",
     "text": [
      "\n",
      "*** PROGRAM START ***\n",
      "\n",
      "Start process: 2024-05-27 10:31:10\n",
      "\n"
     ]
    }
   ],
   "source": [
    "### MAIN ###\n",
    "print()\n",
    "print(\"*** PROGRAM START ***\")\n",
    "print()\n",
    "\n",
    "start_time = datetime.now().replace(microsecond=0)\n",
    "print(\"Start process:\", str(start_time))\n",
    "print()"
   ]
  },
  {
   "cell_type": "code",
   "execution_count": 10,
   "metadata": {},
   "outputs": [
    {
     "name": "stdout",
     "output_type": "stream",
     "text": [
      ">> Reading CSV file\n",
      "File: data/bid_opening_text.csv\n",
      "Reading CSV with input col_type...\n",
      "Rows in dataframe: 1063\n",
      "Columns in dataframe: Index(['file_name', 'case_id', 'text'], dtype='object')\n",
      "\n"
     ]
    }
   ],
   "source": [
    "# Reading CSV file text and dates to be extracted by LLM\n",
    "print(\">> Reading CSV file\")\n",
    "path_bid_text = Path(data_dir) / bid_file_text\n",
    "print(\"File:\", str(path_bid_text))\n",
    "dic_type = {\"file_name\":object, \"case_id\":object, \"text\":object}\n",
    "df_bid_text = read_csv_data_to_df(path_bid_text, dic_type, csv_sep)\n",
    "df_bid_text_len = len(df_bid_text)\n",
    "print(\"Rows in dataframe:\", df_bid_text_len)\n",
    "print(\"Columns in dataframe:\", df_bid_text.columns)\n",
    "print()"
   ]
  },
  {
   "cell_type": "code",
   "execution_count": 11,
   "metadata": {},
   "outputs": [
    {
     "name": "stdout",
     "output_type": "stream",
     "text": [
      ">> Reading the annotated dataset (with dates as labels)\n",
      "Path: data/bid_opening_text_date_label.csv\n",
      "Reading CSV with input col_type...\n",
      "Dataframe with labels shape: (1063, 3)\n"
     ]
    }
   ],
   "source": [
    "# Reading CSV file text and annotated as labels\n",
    "print(\">> Reading the annotated dataset (with dates as labels)\")\n",
    "path_csv_label = Path(data_dir) / bid_file_text_date_label\n",
    "print(\"Path:\", str(path_csv_label))\n",
    "dic_type = {\"file_name\":object, \"text\":object, \"label\":object}\n",
    "df_label = read_csv_data_to_df(path_csv_label, dic_type, csv_sep)\n",
    "print(\"Dataframe with labels shape:\", df_label.shape) # should be same shape as df_bid_text\n",
    "# Convert labels\n",
    "df_label['label_ymd'] = df_label['label'].apply(convert_dmy_to_ymd)\n",
    "# Replace empty cells (not found) with -1\n",
    "df_label.loc[df_label['label_ymd'].isna(), 'label_ymd'] = \"-1\""
   ]
  },
  {
   "cell_type": "code",
   "execution_count": 12,
   "metadata": {},
   "outputs": [
    {
     "name": "stdout",
     "output_type": "stream",
     "text": [
      ">> Testing LLM connection\n",
      "OK! Successful login to LLM\n"
     ]
    }
   ],
   "source": [
    "# Testing the connection to LLM\n",
    "print(\">> Testing LLM connection\")\n",
    "# print(\"Open API key:\", openai_api_key) # debug\n",
    "llm_test(hc_username, hc_password)"
   ]
  },
  {
   "cell_type": "code",
   "execution_count": 13,
   "metadata": {},
   "outputs": [
    {
     "name": "stdout",
     "output_type": "stream",
     "text": [
      ">> Reading CSV text and querying LLM\n",
      "Using a sample of 10\n",
      "LLM input: Data: 24/05/2019|Ora locale: 10:00|Luogo:|Sede della Centrale Unica di Committenza per i comuni di Castelfranco di Sott, Montopoli Val D'Arno, S. Croce |sull'Arno e S. Miniato, via Vittime del Duomo 8 — 56028 San Miniato — Palazzo comunale — 2o Piano — |Ufficio Contratti|Informazioni relative alle persone ammesse e alla procedura di apertura:|Rappresentanti legali e soggetti muniti di specifica delega\n",
      "LLM output: "
     ]
    }
   ],
   "source": [
    "# Parse the files\n",
    "print(\">> Reading CSV text and querying LLM\")\n",
    "\n",
    "# If sample_size is greater than 0 it extracts a sample of rows from the dataset\n",
    "if sample_size > 0:\n",
    "    if sample_size > df_bid_text_len:\n",
    "        sample_size = df_bid_text_len\n",
    "    print(f\"Using a sample of {sample_size}\")\n",
    "    df_bid_text = df_bid_text.sample(n=sample_size)\n",
    "else:\n",
    "    print(\"Using the entire dataframe\")\n",
    "    df_bid_text = df_bid_text  # Optionally, you can add df_bid_text = df_bid_text.copy() to make it explicit that no sampling is applied\n",
    "\n",
    "# Hugging Face Login\n",
    "sign = Login(hc_username, hc_password)\n",
    "cookies = sign.login()\n",
    "\n",
    "# Applies LLM on the dataframe \n",
    "df_bid_text['date'] = df_bid_text.apply(lambda row: process_row(row, cookies), axis=1)\n",
    "print()\n",
    "print(\"Query at LLM concluded\")\n",
    "print()"
   ]
  },
  {
   "cell_type": "code",
   "execution_count": 75,
   "metadata": {},
   "outputs": [
    {
     "name": "stdout",
     "output_type": "stream",
     "text": [
      ">> New data obtained from LLM\n",
      "Index(['file_name', 'case_id', 'text', 'date'], dtype='object')\n",
      "                     file_name     case_id  \\\n",
      "4    2016-OJS012-017147-it.pdf   201617147   \n",
      "515  2017-OJS246-515047-it.pdf  2017515047   \n",
      "833  2019-OJS109-265942-it.pdf  2019265942   \n",
      "921  2019-OJS216-530465-it.pdf  2019530465   \n",
      "53   2016-OJS073-127779-it.pdf  2016127779   \n",
      "\n",
      "                                                  text        date  \n",
      "4    Data: 4.3.2016 - 10:00|Persone ammesse ad assi...  2016-03-04  \n",
      "515                 Data: 07/02/2018|Ora locale: 09:30  2018-02-07  \n",
      "833  Data: 12/07/2019|Ora locale: 09:00|Luogo:|Trie...  2019-07-12  \n",
      "921  Data: 09/12/2019|Ora locale: 14:00|Luogo:|Comu...  2019-12-09  \n",
      "53   Data: 26.5.2016 - 10:00|Luogo:|Formigine, Via ...  2016-05-26  \n",
      "\n"
     ]
    }
   ],
   "source": [
    "print(\">> New data obtained from LLM\")\n",
    "# df_bid_text['date'].fillna(\"-1\", inplace=True)\n",
    "# Replace empty cells (not found) with -1\n",
    "df_bid_text.loc[df_bid_text['date'].isna(), 'date'] = \"-1\"\n",
    "print(df_bid_text.columns)\n",
    "print(df_bid_text.head())\n",
    "print()"
   ]
  },
  {
   "cell_type": "code",
   "execution_count": 76,
   "metadata": {},
   "outputs": [
    {
     "name": "stdout",
     "output_type": "stream",
     "text": [
      ">> Saving bid opening texts and dates\n",
      "Dataframe with dates shape: (10, 4)\n",
      "Path: data/bid_opening_text_date_HFC.csv\n"
     ]
    }
   ],
   "source": [
    "# Create a file with the texts extracted from the PDFs\n",
    "print(\">> Saving bid opening texts and dates\")\n",
    "print(\"Dataframe with dates shape:\", df_bid_text.shape)  # should be same shape as df_label\n",
    "file_name = Path(bid_file_text_date).stem # get the general filename without extension\n",
    "file_name_csv = f\"{file_name}_{suffix}.csv\"\n",
    "path_out = Path(data_dir) / file_name_csv\n",
    "print(\"Path:\", path_out)\n",
    "df_bid_text.to_csv(path_out, sep=csv_sep, index=False, quoting=csv.QUOTE_ALL)\n",
    "print()"
   ]
  },
  {
   "cell_type": "code",
   "execution_count": 77,
   "metadata": {},
   "outputs": [
    {
     "name": "stdout",
     "output_type": "stream",
     "text": [
      ">> Checking accuracy against the annotated dataset\n",
      "Dates from LLM length: 10\n",
      "Dates from LABELS length: 993\n",
      "\n",
      "Dataframe joint for accuracy\n",
      "Dataframe length: 10\n",
      "                   file_name     case_id        date       label   label_ymd\n",
      "0  2016-OJS012-017147-it.pdf   201617147  2016-03-04  04/03/2016  2016-03-04\n",
      "1  2017-OJS246-515047-it.pdf  2017515047  2018-02-07  07/02/2018  2018-02-07\n",
      "2  2019-OJS109-265942-it.pdf  2019265942  2019-07-12  12/07/2019  2019-07-12\n",
      "3  2019-OJS216-530465-it.pdf  2019530465  2019-12-09  09/12/2019  2019-12-09\n",
      "4  2016-OJS073-127779-it.pdf  2016127779  2016-05-26  26/05/2016  2016-05-26\n",
      "Index(['file_name', 'case_id', 'date', 'label', 'label_ymd'], dtype='object')\n",
      "\n"
     ]
    }
   ],
   "source": [
    "# Checking accuracy against the annotated dataset\n",
    "print(\">> Checking accuracy against the annotated dataset\")\n",
    "\n",
    "# Only extracts dates found (!= -1)\n",
    "df_bid_text = df_bid_text[df_bid_text['date'] != \"-1\"]\n",
    "print(\"Dates from LLM length:\", len(df_bid_text)) # should be same length as label_dates_list\n",
    "\n",
    "# Only extracts labels (!= -1)\n",
    "df_label = df_label[df_label['label_ymd'] != \"-1\"]\n",
    "print(\"Dates from LABELS length:\", len(df_label))  # should be same length as llm_dates_list\n",
    "\n",
    "print()\n",
    "\n",
    "# Merges the dataset from which the dates were extracted with the one containing the labels\n",
    "key_col = \"file_name\" # Key column on which to perform the join\n",
    "col_del = [\"text\"] # List of columns to be removed from the join\n",
    "merged_df = left_join_df(df_bid_text, df_label, key_col, col_del)\n",
    "\n",
    "print(\"Dataframe joint for accuracy\")\n",
    "print(\"Dataframe length:\", len(merged_df))\n",
    "print(merged_df.head())\n",
    "print(merged_df.columns)\n",
    "print()"
   ]
  },
  {
   "cell_type": "code",
   "execution_count": 78,
   "metadata": {},
   "outputs": [
    {
     "name": "stdout",
     "output_type": "stream",
     "text": [
      "Column type: object,object\n",
      "Accuracy: 0.00 over a sample of 10 rows\n",
      "\n"
     ]
    }
   ],
   "source": [
    "# Computing precision\n",
    "accuracy = calculate_accuracy(merged_df, \"date\", \"label_ymd\")\n",
    "print(f\"Accuracy: {accuracy:.2f} over a sample of {len(merged_df)} rows\")\n",
    "print()"
   ]
  },
  {
   "cell_type": "code",
   "execution_count": 79,
   "metadata": {},
   "outputs": [
    {
     "name": "stdout",
     "output_type": "stream",
     "text": [
      "\n",
      "End process: 2024-05-16 11:09:26\n",
      "Time to finish: 0:01:08\n",
      "\n",
      "\n",
      "*** PROGRAM END ***\n",
      "\n"
     ]
    }
   ],
   "source": [
    "# program end\n",
    "end_time = datetime.now().replace(microsecond=0)\n",
    "delta_time = end_time - start_time\n",
    "\n",
    "print()\n",
    "print(\"End process:\", end_time)\n",
    "print(\"Time to finish:\", delta_time)\n",
    "print()\n",
    "\n",
    "print()\n",
    "print(\"*** PROGRAM END ***\")\n",
    "print()"
   ]
  }
 ],
 "metadata": {
  "kernelspec": {
   "display_name": "Python 3",
   "language": "python",
   "name": "python3"
  },
  "language_info": {
   "codemirror_mode": {
    "name": "ipython",
    "version": 3
   },
   "file_extension": ".py",
   "mimetype": "text/x-python",
   "name": "python",
   "nbconvert_exporter": "python",
   "pygments_lexer": "ipython3",
   "version": "3.12.2"
  }
 },
 "nbformat": 4,
 "nbformat_minor": 2
}
