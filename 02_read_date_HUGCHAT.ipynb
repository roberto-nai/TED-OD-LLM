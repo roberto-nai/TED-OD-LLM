{
 "cells": [
  {
   "cell_type": "code",
   "execution_count": 72,
   "metadata": {},
   "outputs": [],
   "source": [
    "# 02_read_date_HUGCHAT.ipynb\n",
    "# Reads the PDFs and extracts the portion of text contained in the section 'Modalità di apertura delle offerte'; the texts are saved in a CSV file.  \n",
    "# Use https://huggingface.co/chat/    "
   ]
  },
  {
   "cell_type": "code",
   "execution_count": 73,
   "metadata": {},
   "outputs": [],
   "source": [
    "# Force to reload extrernal modules every new cell execution\n",
    "%reload_ext autoreload\n",
    "%autoreload 2"
   ]
  },
  {
   "cell_type": "code",
   "execution_count": 137,
   "metadata": {},
   "outputs": [],
   "source": [
    "### IMPORT ###\n",
    "from pathlib import Path\n",
    "import csv\n",
    "from datetime import datetime\n",
    "import pandas as pd\n",
    "import os \n",
    "from dotenv import load_dotenv # Needed to load the contents of the .env file\n",
    "from hugchat import hugchat\n",
    "from hugchat.login import Login\n",
    "import requests\n",
    "from time import sleep as t_sleep"
   ]
  },
  {
   "cell_type": "code",
   "execution_count": 88,
   "metadata": {},
   "outputs": [],
   "source": [
    "### LOCAL IMPORT ###\n",
    "from config import config_reader\n",
    "from utilities import read_csv_data_to_df, convert_dmy_to_ymd"
   ]
  },
  {
   "cell_type": "code",
   "execution_count": 138,
   "metadata": {},
   "outputs": [],
   "source": [
    "### GLOBALS ###\n",
    "yaml_config = config_reader.config_read_yaml(\"config.yml\", \"config\")\n",
    "# print(yaml_config) # debug\n",
    "data_dir = str(yaml_config[\"DATA_DIR\"])\n",
    "bid_file_text = str(yaml_config[\"FILE_BID_TEXT\"])\n",
    "bid_file_text_date = str(yaml_config[\"FILE_BID_TEXT_DATE\"])\n",
    "bid_file_text_date_label = str(yaml_config[\"FILE_BID_TEXT_DATE_LABEL\"])\n",
    "csv_sep = str(yaml_config[\"CSV_SEP\"])\n",
    "\n",
    "# HugChat\n",
    "load_dotenv() # Load environment variables from the .env file\n",
    "hc_username = os.getenv(\"HC_EMAIL\")\n",
    "hc_password = os.getenv(\"HC_PASS\")\n",
    "time_sleep = int(yaml_config[\"TIME_SLEEP\"]) #  To avoid too many requests in a short time"
   ]
  },
  {
   "cell_type": "code",
   "execution_count": 30,
   "metadata": {},
   "outputs": [],
   "source": [
    "### FUNCTIONS ###"
   ]
  },
  {
   "cell_type": "code",
   "execution_count": 111,
   "metadata": {},
   "outputs": [],
   "source": [
    "def llm_test(username:str, passwd:str) -> None:\n",
    "    \"\"\"\n",
    "    Test the connection to the LLM.\n",
    "    \n",
    "    Args:\n",
    "        username (str): login e-mail.\n",
    "        passwd (str): login password.\n",
    "    \"\"\"\n",
    "    try:\n",
    "        # Hugging Face Login\n",
    "        session = Login(username, passwd)\n",
    "        if session.login():\n",
    "            print(\"OK! Successful login to LLM\")\n",
    "        else:\n",
    "            print(\"ERROR! Login failed: invalid session.\")\n",
    "    except Exception as e:\n",
    "        print(f\"ERROR! An unexpected error occurred in LLM test connection: {e}\")"
   ]
  },
  {
   "cell_type": "code",
   "execution_count": 125,
   "metadata": {},
   "outputs": [],
   "source": [
    "# Function for generating LLM response\n",
    "def llm_find_date(text:str, cookies:requests.cookies.RequestsCookieJar):\n",
    "    \"\"\"\n",
    "    Extracts and formats a date from a given text string using HuggingChat. The date is returned in the format dd/mm/yyyy.\n",
    "\n",
    "    Args:\n",
    "        text (str): The text from which the date needs to be extracted. It should contain a date in any recognisable format.\n",
    "        cookies (requests.cookies): Cookie to avoid login.\n",
    "\n",
    "    Returns:\n",
    "        str: A string representing the date in dd/mm/yyyy format. If an error occurs, it returns the error message.\n",
    "    \"\"\"\n",
    "    # Create ChatBot\n",
    "    try:\n",
    "        prompt_input = f\"Please extract and format only the date in this Italian text as yyyy-mm-dd, without adding anything other than the date. Dates can be written as dd.mm.yyyy or dd/mm/yyyy and days and months less than 10 may not have the leading 0 (e.g.: 5.2.2016). Write -1 if date not found. Text: {text}\"\n",
    "        chatbot = hugchat.ChatBot(cookies=cookies.get_dict())\n",
    "        response = chatbot.chat(prompt_input)\n",
    "        print(\"LLM output:\", response)\n",
    "        # print(type(response))\n",
    "        return response    \n",
    "    except Exception as e:\n",
    "        print(f\"ERROR! An unexpected error occurred during the LLM prompt use: {e}\")\n",
    "        return None"
   ]
  },
  {
   "cell_type": "code",
   "execution_count": 141,
   "metadata": {},
   "outputs": [],
   "source": [
    "def process_row(row: pd.Series, cookies:requests.cookies.RequestsCookieJar) -> str:\n",
    "    \"\"\"\n",
    "    Process a single row of the DataFrame. If the 'text' field is not None, call llm_find_date() with the 'text'.\n",
    "\n",
    "    Args:\n",
    "        row (pd.Series): A pandas Series object representing a single row.\n",
    "        cookies (requests.cookies): Cookie to avoid login.\n",
    "    Returns:\n",
    "        str: The date string returned by llm_find_date if 'text' is not None; otherwise, None.\n",
    "    \"\"\"\n",
    "    if pd.notnull(row['text']):\n",
    "        print(\"LLM input:\", row['text'])\n",
    "        t_sleep(time_sleep) # Avoid too many requests\n",
    "        return llm_find_date(row['text'], cookies)\n",
    "    return None  # Return None if 'text' is None"
   ]
  },
  {
   "cell_type": "code",
   "execution_count": 114,
   "metadata": {},
   "outputs": [
    {
     "name": "stdout",
     "output_type": "stream",
     "text": [
      "\n",
      "*** PROGRAM START ***\n",
      "\n",
      "Start process: 2024-05-15 11:26:47\n",
      "\n"
     ]
    }
   ],
   "source": [
    "### MAIN ###\n",
    "print()\n",
    "print(\"*** PROGRAM START ***\")\n",
    "print()\n",
    "\n",
    "start_time = datetime.now().replace(microsecond=0)\n",
    "print(\"Start process:\", str(start_time))\n",
    "print()"
   ]
  },
  {
   "cell_type": "code",
   "execution_count": 94,
   "metadata": {},
   "outputs": [
    {
     "name": "stdout",
     "output_type": "stream",
     "text": [
      ">> Reading CSV file\n",
      "File: data/bid_opening_text.csv\n",
      "Reading CSV with input col_type...\n",
      "Rows in dataframe: 1063\n",
      "Columns in dataframe: Index(['file_name', 'case_id', 'text'], dtype='object')\n",
      "\n"
     ]
    }
   ],
   "source": [
    "# Reading CSV file text and dates to be extracted by LLM\n",
    "print(\">> Reading CSV file\")\n",
    "path_bid_text = Path(data_dir) / bid_file_text\n",
    "print(\"File:\", str(path_bid_text))\n",
    "dic_type = {\"file_name\":object, \"case_id\":object, \"text\":object}\n",
    "df_bid_text = read_csv_data_to_df(path_bid_text, dic_type, csv_sep)\n",
    "df_bid_text_len = len(df_bid_text)\n",
    "print(\"Rows in dataframe:\", df_bid_text_len)\n",
    "print(\"Columns in dataframe:\", df_bid_text.columns)\n",
    "print()"
   ]
  },
  {
   "cell_type": "code",
   "execution_count": 95,
   "metadata": {},
   "outputs": [
    {
     "name": "stdout",
     "output_type": "stream",
     "text": [
      ">> Reading the annotated dataset (with dates as labels)\n",
      "Path: data/bid_opening_text_date_label.csv\n",
      "Reading CSV with input col_type...\n",
      "Dataframe with labels shape: (1063, 3)\n"
     ]
    }
   ],
   "source": [
    "print(\">> Reading the annotated dataset (with dates as labels)\")\n",
    "path_csv_label = Path(data_dir) / bid_file_text_date_label\n",
    "print(\"Path:\", str(path_csv_label))\n",
    "dic_type = {\"file_name\":object, \"text\":object, \"label\":object}\n",
    "df_label = read_csv_data_to_df(path_csv_label, dic_type, csv_sep)\n",
    "print(\"Dataframe with labels shape:\", df_label.shape) # should be same shape as df_bid_text\n",
    "# Convert labels\n",
    "df_label['label_ymd'] = df_label['label'].apply(convert_dmy_to_ymd)\n",
    "# Replace empty cells (not found) with -1\n",
    "df_label.loc[df_label['label_ymd'].isna(), 'label_ymd'] = \"-1\""
   ]
  },
  {
   "cell_type": "code",
   "execution_count": 117,
   "metadata": {},
   "outputs": [
    {
     "name": "stdout",
     "output_type": "stream",
     "text": [
      ">> Testing LLM connection\n",
      "OK! Successful login to LLM\n"
     ]
    }
   ],
   "source": [
    "# Testing the connection to LLM\n",
    "print(\">> Testing LLM connection\")\n",
    "# print(\"Open API key:\", openai_api_key) # debug\n",
    "llm_test(hc_username, hc_password)"
   ]
  },
  {
   "cell_type": "code",
   "execution_count": 142,
   "metadata": {},
   "outputs": [
    {
     "name": "stdout",
     "output_type": "stream",
     "text": [
      ">> Reading CSV text and querying LLM\n",
      "LLM input: Data: 25.2.2016 - 9:00|Luogo:|Provincia di Varese — Piazza Libertà 1 — Varese.|Persone ammesse ad assistere all'apertura delle offerte: sì|Informazioni complementari sulle persone ammesse e la procedura di apertura: Un rappresentante per ogni |impresa offerente munito di relativa procura.\n",
      "LLM output: 2016-02-25\n",
      "LLM input: Data: 25.2.2016 - 9:30|Luogo:|Comune di Piacenza — Piazza Cavalli 2.|Persone ammesse ad assistere all'apertura delle offerte: sì|Informazioni complementari sulle persone ammesse e la procedura di apertura: Legali rappresentanti delle ditte |concorrenti o persone delegate.\n",
      "LLM output: 2016-02-25\n",
      "LLM input: Data: 11.3.2016 - 9:00|Luogo:|Settore Gare e Appalti, Via Marchetti 3 — Brescia.|Persone ammesse ad assistere all'apertura delle offerte: sì|Informazioni complementari sulle persone ammesse e la procedura di apertura: Seduta pubblica.\n",
      "LLM output: 2016-03-11\n",
      "LLM input: Data: 4.3.2016 - 10:00|Persone ammesse ad assistere all'apertura delle offerte: sì|Informazioni complementari sulle persone ammesse e la procedura di apertura: Seduta pubblica.\n",
      "LLM output: 2016-03-04\n",
      "LLM input: Data: 10.3.2016 - 10:00|Luogo:|Settore appalti e contratti — Corso Matteotti 3 — piano VI — Lecco.|Persone ammesse ad assistere all'apertura delle offerte: sì|Informazioni complementari sulle persone ammesse e la procedura di apertura: Legali rappresentanti/delegati |imprese partecipanti.\n",
      "LLM output: 2016-03-10\n",
      "LLM input: Data: 14.3.2016 - 9:00|Luogo:|Sala riunioni sita al primo piano dell'edificio «Teatro comunale di Pergine» — Piazza Garibaldi 5/h.|Persone ammesse ad assistere all'apertura delle offerte: sì|Informazioni complementari sulle persone ammesse e la procedura di apertura: Legali rappresentanti delle |imprese e persone munite di delega.\n",
      "LLM output: 2016-03-14\n",
      "LLM input: Persone ammesse ad assistere all'apertura delle offerte: sì|Informazioni complementari sulle persone ammesse e la procedura di apertura: Titolare o legale rappresentante |del soggetto concorrente, ovvero persone munite di specifica delega.\n",
      "LLM output: -1\n",
      "LLM input: Data: 14.3.2016 - 15:00|Luogo:|Sede Municipale Piazza G. Puchetti 1 — Selvazzano Dentro (PD) — seduta pubblica secondo le modalità |previste nel disciplinare di gara. Le altre sedute pubbliche verranno comunicate tramite PEC o Fax all'indirizzo/|numero indicati dai concorrenti e pubblicate nel sito internet dell'Ente.|Persone ammesse ad assistere all'apertura delle offerte: sì|Informazioni complementari sulle persone ammesse e la procedura di apertura: Il Titolare o Rappresentante |Legale o soggetto munito di apposita delega conferita dal legale rappresentante.\n",
      "LLM output: 2016-03-14\n",
      "LLM input: Data: 22.3.2016 - 9:30|Persone ammesse ad assistere all'apertura delle offerte: sì|Informazioni complementari sulle persone ammesse e la procedura di apertura: Legali rappresentanti delle |compagnie partecipanti o loro delegati.\n",
      "LLM output: 2016-03-22\n",
      "LLM input: Data: 11.3.2016 - 10:00|Persone ammesse ad assistere all'apertura delle offerte: sì|Informazioni complementari sulle persone ammesse e la procedura di apertura: Seduta aperta al pubblico.\n",
      "LLM output: 2016-03-11\n",
      "LLM input: Data: 16.3.2016 - 10:00|Luogo:|presso una sala della Residenza Municipale sita in P.zza del Municipio 2, 44121 Ferrara.|Persone ammesse ad assistere all'apertura delle offerte: sì|Informazioni complementari sulle persone ammesse e la procedura di apertura: All'apertura dei plichi sono |ammessi a partecipare tutti i soggetti interessati, I legali rappresentanti degli offerenti o altri soggetti muniti di |delega o procura saranno autorizzati a richiedere la verbalizzazione in sede di gara di eventuali dichiarazioni.\n",
      "LLM output: 2016-03-16\n",
      "LLM input: Data: 3.3.2016 - 9:30|Luogo:|Città Metropolitana di Genova, Piazzale Mazzini 2 — Genova.|Persone ammesse ad assistere all'apertura delle offerte: sì|Informazioni complementari sulle persone ammesse e la procedura di apertura: I soggetti che assistono alla |seduta di gara sono tenuti all'identificazione e alla registrazione della presenza. Possono rilasciare dichiarazioni |a verbale esclusivamente i soggetti muniti di idonei poteri di rappresentanza delle imprese partecipanti.\n",
      "LLM output: 2016-03-03\n",
      "LLM input: Data: 4.5.2016 - 10:00|Luogo:|Presso il Comune di Trezzano sul Naviglio.|Persone ammesse ad assistere all'apertura delle offerte: sì|Informazioni complementari sulle persone ammesse e la procedura di apertura: Durante le operazioni di |apertura delle buste saranno ammessi a presentare eventuali osservazioni esclusivamente i soggetti muniti di |idoneo documento comprovante la legittimazione ad agire in nome e per conto delle società partecipanti alla |gara (legali rappresentanti, procuratori, delegati). La procedura di gara avrà inizio all'ora stabilita anche nel caso |in cui nessuna delle società partecipanti sia presente.\n",
      "LLM output: 2016-05-04\n",
      "LLM input: Data: 7.4.2016 - 9:30|Luogo:|Sede municipale del Comune di Brugherio, Piazza Cesare Battisti 1 — 20861 Brugherio (MB) — Italia.|Persone ammesse ad assistere all'apertura delle offerte: sì|Informazioni complementari sulle persone ammesse e la procedura di apertura: I concorrenti che volessero |intervenire potranno presenziare con il proprio titolare, legale rappresentante od altra persona appositamente |delegata (in possesso di delega). Potrà assistere all'apertura della gara un solo rappresentante per ogni |concorrente.\n",
      "LLM output: 2016-04-07\n",
      "LLM input: Data: 6.4.2016 - 16:00|Luogo:|Comune di Buggiano, Piazza Matteotti 1 Buggiano (PT) Italia.|Persone ammesse ad assistere all'apertura delle offerte: sì|Informazioni complementari sulle persone ammesse e la procedura di apertura: Sono ammessi tutti i soggetti |ma è facoltà solo dei legali rappresentanti o loro delegati formulare osservazioni a verbale.\n",
      "LLM output: 2016-04-06\n",
      "LLM input: Data: 5.4.2016 - 9:00|Luogo:|Comune di Desenzano del Garda — Via Carducci 4.|Persone ammesse ad assistere all'apertura delle offerte: sì|Informazioni complementari sulle persone ammesse e la procedura di apertura: Legale rappresentante delle |imprese offerenti o suo delegato in possesso di idonea delega e valido documento di identità.\n",
      "LLM output: 2016-04-05\n",
      "LLM input: Data: 1.4.2016 - 10:00|Luogo:|Sede comunale.|Persone ammesse ad assistere all'apertura delle offerte: sì|Informazioni complementari sulle persone ammesse e la procedura di apertura: Legali rappresentanti|delegati od incaricati.\n",
      "LLM output: 2016-04-01\n",
      "LLM input: Data: 3.5.2016 - 9:30\n"
     ]
    }
   ],
   "source": [
    "# Parse the files\n",
    "print(\">> Reading CSV text and querying LLM\")\n",
    "# Hugging Face Login\n",
    "sign = Login(hc_username, hc_password)\n",
    "cookies = sign.login()\n",
    "# df_bid_text['date'] = df_bid_text.apply(process_row, axis=1)\n",
    "df_bid_text['date'] = df_bid_text.apply(lambda row: process_row(row, cookies), axis=1)\n",
    "print()"
   ]
  },
  {
   "cell_type": "code",
   "execution_count": 39,
   "metadata": {},
   "outputs": [
    {
     "name": "stdout",
     "output_type": "stream",
     "text": [
      ">> New data obtained from LLM\n",
      "Index(['file_name', 'case_id', 'text', 'date'], dtype='object')\n",
      "                   file_name    case_id  \\\n",
      "0  2016-OJS003-002872-it.pdf   20162872   \n",
      "1  2016-OJS004-004078-it.pdf   20164078   \n",
      "2  2016-OJS008-009964-it.pdf   20169964   \n",
      "3  2016-OJS011-015326-it.pdf  201615326   \n",
      "4  2016-OJS012-017147-it.pdf  201617147   \n",
      "\n",
      "                                                text        date  \n",
      "0  Data: 25.2.2016 - 9:00|Luogo:|Provincia di Var...          -1  \n",
      "1                                                NaN          -1  \n",
      "2  Data: 25.2.2016 - 9:30|Luogo:|Comune di Piacen...  2016-02-25  \n",
      "3  Data: 11.3.2016 - 9:00|Luogo:|Settore Gare e A...  2016-03-11  \n",
      "4  Data: 4.3.2016 - 10:00|Persone ammesse ad assi...  2016-03-04  \n",
      "\n"
     ]
    }
   ],
   "source": [
    "print(\">> New data obtained from LLM\")\n",
    "# df_bid_text['date'].fillna(\"-1\", inplace=True)\n",
    "# Replace empty cells (not found) with -1\n",
    "df_bid_text.loc[df_bid_text['date'].isna(), 'date'] = \"-1\"\n",
    "print(df_bid_text.columns)\n",
    "print(df_bid_text.head())\n",
    "print()"
   ]
  },
  {
   "cell_type": "code",
   "execution_count": 40,
   "metadata": {},
   "outputs": [
    {
     "name": "stdout",
     "output_type": "stream",
     "text": [
      ">> Saving bid opening texts and dates\n",
      "Dataframe with dates shape: (1063, 4)\n",
      "Path: data/bid_opening_text_date.csv\n"
     ]
    }
   ],
   "source": [
    "# Create a file with the texts extracted from the PDFs\n",
    "print(\">> Saving bid opening texts and dates\")\n",
    "print(\"Dataframe with dates shape:\", df_bid_text.shape)  # should be same shape as df_label\n",
    "path_out = Path(data_dir) / bid_file_text_date\n",
    "print(\"Path:\", path_out)\n",
    "df_bid_text.to_csv(path_out, sep=csv_sep, index=False, quoting=csv.QUOTE_ALL)"
   ]
  },
  {
   "cell_type": "code",
   "execution_count": 156,
   "metadata": {},
   "outputs": [
    {
     "name": "stdout",
     "output_type": "stream",
     "text": [
      ">> Checking accuracy against the annotated dataset\n",
      "Path: data/bid_opening_text_date_label.csv\n",
      "Dataframe with labels shape: (1063, 3)\n",
      "Dates from LLM list length: 993\n",
      "Dates from LABELS list length: 993\n"
     ]
    }
   ],
   "source": [
    "# Checking accuracy against the annotated dataset\n",
    "print(\">> Checking accuracy against the annotated dataset\")\n",
    "path_csv_label = Path(data_dir) / bid_file_text_date_label\n",
    "print(\"Path:\", str(path_csv_label))\n",
    "dic_type = {\"file_name\":object, \"text\":object, \"label\":object}\n",
    "df_label = read_csv_data_to_df(path_csv_label, dic_type, csv_sep)\n",
    "print(\"Dataframe with labels shape:\", df_label.shape) # should be same shape as df_bid_text\n",
    "# Convert labels\n",
    "df_label['label_ymd'] = df_label['label'].apply(convert_dmy_to_ymd)\n",
    "# Replace empty cells (not found) with -1\n",
    "df_label.loc[df_label['label_ymd'].isna(), 'label_ymd'] = \"-1\"\n",
    "\n",
    "# Gets dates in list format to compare them (removing not found -> -1)\n",
    "df_bid_text = df_bid_text[df_bid_text['date'] != \"-1\"]\n",
    "llm_dates_list = df_bid_text['date'].tolist()\n",
    "print(\"Dates from LLM list length:\", len(llm_dates_list)) # should be same length as label_dates_list\n",
    "\n",
    "df_label = df_label[df_label['label_ymd'] != \"-1\"]\n",
    "label_dates_list = df_label['label_ymd'].tolist()\n",
    "print(\"Dates from LABELS list length:\", len(label_dates_list))  # should be same length as llm_dates_list"
   ]
  },
  {
   "cell_type": "code",
   "execution_count": 159,
   "metadata": {},
   "outputs": [
    {
     "name": "stdout",
     "output_type": "stream",
     "text": [
      "Precision: 99.50%\n"
     ]
    }
   ],
   "source": [
    "# Computing precision\n",
    "correct_dates = [date in label_dates_list for date in llm_dates_list]\n",
    "accuracy = sum(correct_dates) / len(correct_dates) if correct_dates else 0\n",
    "print(f\"Precision: {accuracy * 100:.2f}%\")"
   ]
  },
  {
   "cell_type": "code",
   "execution_count": 158,
   "metadata": {},
   "outputs": [
    {
     "name": "stdout",
     "output_type": "stream",
     "text": [
      "\n",
      "End process: 2024-05-09 12:24:05\n",
      "Time to finish: 0:15:29\n",
      "\n",
      "\n",
      "*** PROGRAM END ***\n",
      "\n"
     ]
    }
   ],
   "source": [
    "# program end\n",
    "end_time = datetime.now().replace(microsecond=0)\n",
    "delta_time = end_time - start_time\n",
    "\n",
    "print()\n",
    "print(\"End process:\", end_time)\n",
    "print(\"Time to finish:\", delta_time)\n",
    "print()\n",
    "\n",
    "print()\n",
    "print(\"*** PROGRAM END ***\")\n",
    "print()"
   ]
  }
 ],
 "metadata": {
  "kernelspec": {
   "display_name": "Python 3",
   "language": "python",
   "name": "python3"
  },
  "language_info": {
   "codemirror_mode": {
    "name": "ipython",
    "version": 3
   },
   "file_extension": ".py",
   "mimetype": "text/x-python",
   "name": "python",
   "nbconvert_exporter": "python",
   "pygments_lexer": "ipython3",
   "version": "3.12.2"
  }
 },
 "nbformat": 4,
 "nbformat_minor": 2
}
