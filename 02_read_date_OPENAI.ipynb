{
 "cells": [
  {
   "cell_type": "code",
   "execution_count": 39,
   "metadata": {},
   "outputs": [],
   "source": [
    "# 02_read_date.ipynb\n",
    "# Reads the PDFs and extracts the portion of text contained in the section 'Modalità di apertura delle offerte'; the texts are saved in a CSV file.      "
   ]
  },
  {
   "cell_type": "code",
   "execution_count": 40,
   "metadata": {},
   "outputs": [],
   "source": [
    "# Force to reload extrernal modules every new cell execution\n",
    "%reload_ext autoreload\n",
    "%autoreload 2"
   ]
  },
  {
   "cell_type": "code",
   "execution_count": 41,
   "metadata": {},
   "outputs": [],
   "source": [
    "### IMPORT ###\n",
    "from pathlib import Path\n",
    "import csv\n",
    "from datetime import datetime\n",
    "import pandas as pd\n",
    "import os \n",
    "from openai import OpenAI\n",
    "from dotenv import load_dotenv # Needed to load the contents of the .env file\n"
   ]
  },
  {
   "cell_type": "code",
   "execution_count": 42,
   "metadata": {},
   "outputs": [],
   "source": [
    "### LOCAL IMPORT ###\n",
    "from config import config_reader\n",
    "from utilities import read_csv_data_to_df, convert_dmy_to_ymd, left_join_df, calculate_accuracy"
   ]
  },
  {
   "cell_type": "code",
   "execution_count": 43,
   "metadata": {},
   "outputs": [],
   "source": [
    "### GLOBALS ###\n",
    "yaml_config = config_reader.config_read_yaml(\"config.yml\", \"config\")\n",
    "# print(yaml_config) # debug\n",
    "data_dir = str(yaml_config[\"DATA_DIR\"])\n",
    "bid_file_text = str(yaml_config[\"FILE_BID_TEXT\"])\n",
    "bid_file_text_date = str(yaml_config[\"FILE_BID_TEXT_DATE\"])\n",
    "bid_file_text_date_label = str(yaml_config[\"FILE_BID_TEXT_DATE_LABEL\"])\n",
    "openai_model_name = str(yaml_config[\"OPENAI_MODEL_NAME\"])\n",
    "csv_sep = str(yaml_config[\"CSV_SEP\"])\n",
    "# OpenAI\n",
    "load_dotenv() # Load environment variables from the .env file\n",
    "openai_api_key = os.getenv(\"OPENAI_API_KEY\")"
   ]
  },
  {
   "cell_type": "code",
   "execution_count": 44,
   "metadata": {},
   "outputs": [],
   "source": [
    "### FUNCTIONS ###"
   ]
  },
  {
   "cell_type": "code",
   "execution_count": 45,
   "metadata": {},
   "outputs": [],
   "source": [
    "def llm_test(model_name:str) -> None:\n",
    "    \"\"\"\n",
    "    Test the connection to the LLM.\n",
    "    \n",
    "    Args:\n",
    "        model_name (str): Name of the model.\n",
    "    \"\"\"\n",
    "    client = OpenAI(api_key=os.getenv(\"OPENAI_API_KEY\"))\n",
    "    try:\n",
    "        stream = client.chat.completions.create(\n",
    "        model=model_name,\n",
    "        messages=[{\"role\": \"user\", \"content\": \"Say this is a test connection [OK]\"}],\n",
    "        stream=True,\n",
    "        )\n",
    "        for chunk in stream:\n",
    "                print(chunk.choices[0].delta.content or \"\", end=\"\")\n",
    "    except Exception as e:\n",
    "        print(f\"ERROR! An unexpected error occurred in LLM test connection: {e}\")"
   ]
  },
  {
   "cell_type": "code",
   "execution_count": 46,
   "metadata": {},
   "outputs": [],
   "source": [
    "def llm_find_date(text: str, model_name:str) -> str:\n",
    "    \"\"\"\n",
    "    Extracts and formats a date from a given text string using ChatGPT. The date is returned in the format dd/mm/yyyy.\n",
    "\n",
    "    Args:\n",
    "        text (str): The text from which the date needs to be extracted. It should contain a date in any recognisable format.\n",
    "        model_name (str): Name of the model.\n",
    "\n",
    "    Returns:\n",
    "        str: A string representing the date in dd/mm/yyyy format. If an error occurs, it returns the error message.\n",
    "    \"\"\"\n",
    "    client = OpenAI(api_key=os.getenv(\"OPENAI_API_KEY\"))\n",
    "\n",
    "    try:\n",
    "        chat_completion = client.chat.completions.create(\n",
    "            messages=[\n",
    "                        {\"role\": \"system\", \"content\": \"You are a helpful assistant in finding dates in Italian texts\"},\n",
    "                        {\"role\": \"user\", \"content\": f\"Please extract and format only the date in this Italian text as yyyy-mm-dd, without adding anything other than the date. Dates can be written as dd.mm.yyyy or dd/mm/yyyy and days and months less than 10 may not have the leading 0 (e.g.: 5.2.2016). Write -1 if date not found: {text}\"}\n",
    "                    ],\n",
    "            model=model_name,\n",
    "        )\n",
    "        # print(type(chat_completion)) # debug\n",
    "        # ChatCompletion(id='chatcmpl-9MrwkHcMyDloWUBVqAcWaSv9vr8B2', choices=[Choice(finish_reason='stop', index=0, logprobs=None, message=ChatCompletionMessage(content='25/02/2016', role='assistant', function_call=None, tool_calls=None))], created=1715237614, model='gpt-4-0613', object='chat.completion', system_fingerprint=None, usage=CompletionUsage(completion_tokens=6, prompt_tokens=132, total_tokens=138))\n",
    "        # The chat_completion vaiable contains a response object ChatCompletion that is is a list of data\n",
    "        # The textual response is in: choices[0] -> message -> content\n",
    "        chat_response = chat_completion.choices[0].message.content.strip()\n",
    "        print(\"LLM output:\", chat_response) # debug\n",
    "        return chat_response\n",
    "        # for more than one response: generated_texts = [choice.message[\"content\"].strip() for choice in chat_completion[\"choices\"]]\n",
    "    except Exception as e:\n",
    "        print(f\"ERROR! An unexpected error occurred in LLM find date: {e}\")\n",
    "        return None"
   ]
  },
  {
   "cell_type": "code",
   "execution_count": 47,
   "metadata": {},
   "outputs": [],
   "source": [
    "def process_row(row: pd.Series, model_name:str) -> str:\n",
    "    \"\"\"\n",
    "    Process a single row of the DataFrame. If the 'text' field is not None, call llm_find_date() with the 'text'.\n",
    "\n",
    "    Args:\n",
    "        row (pd.Series): A pandas Series object representing a single row.\n",
    "        model_name (str): Name of the model.\n",
    "    Returns:\n",
    "        str: The date string returned by llm_find_date if 'text' is not None; otherwise, None.\n",
    "    \"\"\"\n",
    "    if pd.notnull(row['text']):\n",
    "        print(\"LLM input:\", row['text'])\n",
    "        return llm_find_date(row['text'], model_name)\n",
    "    return None  # Return None if 'text' is None"
   ]
  },
  {
   "cell_type": "code",
   "execution_count": 48,
   "metadata": {},
   "outputs": [
    {
     "name": "stdout",
     "output_type": "stream",
     "text": [
      "\n",
      "*** PROGRAM START ***\n",
      "\n",
      "Start process: 2024-05-16 09:38:28\n",
      "\n"
     ]
    }
   ],
   "source": [
    "### MAIN ###\n",
    "print()\n",
    "print(\"*** PROGRAM START ***\")\n",
    "print()\n",
    "\n",
    "start_time = datetime.now().replace(microsecond=0)\n",
    "print(\"Start process:\", str(start_time))\n",
    "print()"
   ]
  },
  {
   "cell_type": "code",
   "execution_count": 49,
   "metadata": {},
   "outputs": [
    {
     "name": "stdout",
     "output_type": "stream",
     "text": [
      ">> Reading CSV file\n",
      "File: data/bid_opening_text.csv\n",
      "Reading CSV with input col_type...\n",
      "Rows in dataframe: 1063\n",
      "Columns in dataframe: Index(['file_name', 'case_id', 'text'], dtype='object')\n",
      "\n"
     ]
    }
   ],
   "source": [
    "# Reading CSV file text and dates to be extracted by LLM\n",
    "print(\">> Reading CSV file\")\n",
    "path_bid_text = Path(data_dir) / bid_file_text\n",
    "print(\"File:\", str(path_bid_text))\n",
    "dic_type = {\"file_name\":object, \"case_id\":object, \"text\":object}\n",
    "df_bid_text = read_csv_data_to_df(path_bid_text, dic_type, csv_sep)\n",
    "df_bid_text_len = len(df_bid_text)\n",
    "print(\"Rows in dataframe:\", df_bid_text_len)\n",
    "print(\"Columns in dataframe:\", df_bid_text.columns)\n",
    "print()"
   ]
  },
  {
   "cell_type": "code",
   "execution_count": 50,
   "metadata": {},
   "outputs": [
    {
     "name": "stdout",
     "output_type": "stream",
     "text": [
      ">> Reading the annotated dataset (with dates as labels)\n",
      "Path: data/bid_opening_text_date_label.csv\n",
      "Reading CSV with input col_type...\n",
      "Rows in dataframe with labels: 1063\n",
      "Columns in dataframe with labels: Index(['file_name', 'case_id', 'text'], dtype='object')\n"
     ]
    }
   ],
   "source": [
    "print(\">> Reading the annotated dataset (with dates as labels)\")\n",
    "path_csv_label = Path(data_dir) / bid_file_text_date_label\n",
    "print(\"Path:\", str(path_csv_label))\n",
    "dic_type = {\"file_name\":object, \"text\":object, \"label\":object}\n",
    "df_label = read_csv_data_to_df(path_csv_label, dic_type, csv_sep)\n",
    "# Convert labels\n",
    "df_label['label_ymd'] = df_label['label'].apply(convert_dmy_to_ymd)\n",
    "# Replace empty cells (not found) with -1\n",
    "df_label.loc[df_label['label_ymd'].isna(), 'label_ymd'] = \"-1\"\n",
    "print(\"Rows in dataframe with labels:\", df_bid_text_len)\n",
    "print(\"Columns in dataframe with labels:\", df_bid_text.columns)"
   ]
  },
  {
   "cell_type": "code",
   "execution_count": 51,
   "metadata": {},
   "outputs": [
    {
     "name": "stdout",
     "output_type": "stream",
     "text": [
      ">> Testing LLM connection\n",
      "Model name: gpt-3.5-turbo\n",
      "This is a test connection [OK]"
     ]
    }
   ],
   "source": [
    "# Testing the connection to LLM\n",
    "print(\">> Testing LLM connection\")\n",
    "# print(\"Open API key:\", openai_api_key) # debug\n",
    "print(\"Model name:\", openai_model_name)\n",
    "llm_test(openai_model_name)"
   ]
  },
  {
   "cell_type": "code",
   "execution_count": 52,
   "metadata": {},
   "outputs": [
    {
     "name": "stdout",
     "output_type": "stream",
     "text": [
      ">> Reading CSV text and querying LLM\n",
      "LLM input: Data: 15/06/2017|Ora locale: 10:00\n",
      "LLM output: 2017-06-15\n",
      "LLM input: Data: 12/12/2019|Ora locale: 10:00|Luogo:|Presso la sede della Stazione unica appaltante della Provincia di Perugia, Via Palermo 21/C – piano terra, sala |riunioni.|Informazioni relative alle persone ammesse e alla procedura di apertura:|Vi potranno partecipare i legali rappresentanti/procuratori delle imprese interessate oppure persone munite di |specifica delega. In assenza di tali titoli, la partecipazione è ammessa come semplice uditore.\n",
      "LLM output: -1\n",
      "LLM input: Data: 09/04/2020|Ora locale: 10:00\n",
      "LLM output: -1\n",
      "LLM input: Data: 19.9.2018 - 10:00|Luogo:|Tarcento, piazza Roma 7.|Persone ammesse ad assistere all'apertura delle offerte: sì|Informazioni complementari sulle persone ammesse e la procedura di apertura: La procedura è di evidenza |pubblica.\n",
      "LLM output: 2018-09-19\n",
      "LLM input: Data: 19/07/2016|Ora locale: 09:00|Luogo:|Sede dell'Unione «Val d'Enza» in Via XXIV Maggio 47, Barco di Bibbiano (RE) 42021.|Informazioni relative alle persone ammesse e alla procedura di apertura:|Sono ammessi ad assistere alla seduta i legali rappresentanti dei concorrenti, ovvero i soggetti, muniti di |specifica delega in carta libera loro conferita dai suddetti rappresentanti.\n",
      "LLM output: 2016-07-19\n",
      "LLM input: Data: 16/10/2018|Ora locale: 10:00\n",
      "LLM output: -1\n",
      "LLM input: Data: 6.4.2017 - 9:00|Luogo:|Via N. Tommaseo 60 — Padova.|Persone ammesse ad assistere all'apertura delle offerte: sì|Informazioni complementari sulle persone ammesse e la procedura di apertura: Si rinvia al disciplinare di gara |di cui alla successiva sez. VI.3).\n",
      "LLM output: 06.04.2017\n",
      "LLM input: Data: 19/09/2018|Ora locale: 09:30|Luogo:|C/o Centro Polivalente Il Melograno – Via Brera 31 – Cornaredo|Informazioni relative alle persone ammesse e alla procedura di apertura:|Sono ammesse ad assistere all’apertura delle offerte i rappresentanti legali degli operatori economici |partecipanti alla gara o suoi incaricati muniti di idonea delega.\n",
      "LLM output: 2018-09-19\n",
      "\n"
     ]
    }
   ],
   "source": [
    "# Parse the files\n",
    "print(\">> Reading CSV text and querying LLM\")\n",
    "# If you only want a sample of the rows, uncomment the following line to extract a random sample of 10 rows\n",
    "df_bid_text = df_bid_text.sample(n=10)\n",
    "\n",
    "# Applies LLM on the entire dataframe \n",
    "df_bid_text['date'] = df_bid_text.apply(lambda row: process_row(row, openai_model_name), axis=1)\n",
    "print()"
   ]
  },
  {
   "cell_type": "code",
   "execution_count": 53,
   "metadata": {},
   "outputs": [
    {
     "name": "stdout",
     "output_type": "stream",
     "text": [
      ">> New data obtained from LLM\n",
      "Rows in dataframe: 10\n",
      "Columns in dataframe: Index(['file_name', 'case_id', 'text', 'date'], dtype='object')\n",
      "                     file_name     case_id  \\\n",
      "362  2017-OJS101-201528-it.pdf  2017201528   \n",
      "913  2019-OJS208-507628-it.pdf  2019507628   \n",
      "949  2020-OJS048-113675-it.pdf  2020113675   \n",
      "655  2018-OJS139-319030-it.pdf  2018319030   \n",
      "104  2016-OJS115-204348-it.pdf  2016204348   \n",
      "\n",
      "                                                  text        date  \n",
      "362                 Data: 15/06/2017|Ora locale: 10:00  2017-06-15  \n",
      "913  Data: 12/12/2019|Ora locale: 10:00|Luogo:|Pres...          -1  \n",
      "949                 Data: 09/04/2020|Ora locale: 10:00          -1  \n",
      "655  Data: 19.9.2018 - 10:00|Luogo:|Tarcento, piazz...  2018-09-19  \n",
      "104  Data: 19/07/2016|Ora locale: 09:00|Luogo:|Sede...  2016-07-19  \n",
      "\n"
     ]
    }
   ],
   "source": [
    "print(\">> New data obtained from LLM\")\n",
    "# df_bid_text['date'].fillna(\"-1\", inplace=True)\n",
    "# Replace empty cells (not found) with -1\n",
    "df_bid_text.loc[df_bid_text['date'].isna(), 'date'] = \"-1\"\n",
    "df_bid_text_len = len(df_bid_text)\n",
    "print(\"Rows in dataframe:\", df_bid_text_len)\n",
    "print(\"Columns in dataframe:\", df_bid_text.columns)\n",
    "print(df_bid_text.head())\n",
    "print()"
   ]
  },
  {
   "cell_type": "code",
   "execution_count": 54,
   "metadata": {},
   "outputs": [
    {
     "name": "stdout",
     "output_type": "stream",
     "text": [
      ">> Saving bid opening texts and dates\n",
      "Dataframe with dates shape: (10, 4)\n",
      "Path: data/bid_opening_text_date_OAI.csv\n"
     ]
    }
   ],
   "source": [
    "# Create a file with the texts extracted from the PDFs\n",
    "print(\">> Saving bid opening texts and dates\")\n",
    "print(\"Dataframe with dates shape:\", df_bid_text.shape)  # should be same shape as df_label\n",
    "file_name = Path(bid_file_text_date).stem # get the general filename without extension\n",
    "file_name_csv = f\"{file_name}_OAI.csv\"\n",
    "path_out = Path(data_dir) / file_name_csv\n",
    "print(\"Path:\", path_out)\n",
    "df_bid_text.to_csv(path_out, sep=csv_sep, index=False, quoting=csv.QUOTE_ALL)"
   ]
  },
  {
   "cell_type": "code",
   "execution_count": 55,
   "metadata": {},
   "outputs": [
    {
     "name": "stdout",
     "output_type": "stream",
     "text": [
      ">> Checking accuracy against the annotated dataset\n",
      "Dates from LLM length: 5\n",
      "Dates from LABELS length: 993\n",
      "\n",
      "Dataframe for accuracy\n",
      "Dataframe length: 5\n",
      "                   file_name     case_id        date       label   label_ymd\n",
      "0  2017-OJS101-201528-it.pdf  2017201528  2017-06-15  15/06/2017  2017-06-15\n",
      "1  2018-OJS139-319030-it.pdf  2018319030  2018-09-19  19/09/2018  2018-09-19\n",
      "2  2016-OJS115-204348-it.pdf  2016204348  2016-07-19  19/07/2016  2016-07-19\n",
      "3  2017-OJS044-081472-it.pdf   201781472  06.04.2017  06/04/2017  2017-04-06\n",
      "4  2018-OJS135-308355-it.pdf  2018308355  2018-09-19  19/09/2018  2018-09-19\n",
      "\n"
     ]
    }
   ],
   "source": [
    "# Checking accuracy against the annotated dataset\n",
    "print(\">> Checking accuracy against the annotated dataset\")\n",
    "\n",
    "# Only extracts dates found (!= -1)\n",
    "df_bid_text = df_bid_text[df_bid_text['date'] != \"-1\"]\n",
    "print(\"Dates from LLM length:\", len(df_bid_text)) # should be same length as label_dates_list\n",
    "\n",
    "# Only extracts labels (!= -1)\n",
    "df_label = df_label[df_label['label_ymd'] != \"-1\"]\n",
    "print(\"Dates from LABELS length:\", len(df_label))  # should be same length as llm_dates_list\n",
    "\n",
    "print()\n",
    "\n",
    "# Merges the dataset from which the dates were extracted with the one containing the labels\n",
    "key_col = \"file_name\" # Key column on which to perform the join\n",
    "col_del = [\"text\"] # List of columns to be removed from the join\n",
    "merged_df = left_join_df(df_bid_text, df_label, key_col, col_del)\n",
    "\n",
    "print(\"Dataframe for accuracy\")\n",
    "print(\"Dataframe length:\", len(merged_df))\n",
    "print(merged_df.head())\n",
    "print()\n"
   ]
  },
  {
   "cell_type": "code",
   "execution_count": 56,
   "metadata": {},
   "outputs": [
    {
     "name": "stdout",
     "output_type": "stream",
     "text": [
      "Accuracy: 0.80 over a sample of 5 rows\n",
      "\n"
     ]
    }
   ],
   "source": [
    "# Computing precision\n",
    "accuracy = calculate_accuracy(merged_df, \"date\", \"label_ymd\")\n",
    "print(f\"Accuracy: {accuracy:.2f} over a sample of {len(merged_df)} rows\")\n",
    "print()"
   ]
  },
  {
   "cell_type": "code",
   "execution_count": 57,
   "metadata": {},
   "outputs": [
    {
     "name": "stdout",
     "output_type": "stream",
     "text": [
      "\n",
      "End process: 2024-05-16 09:38:34\n",
      "Time to finish: 0:00:06\n",
      "\n",
      "\n",
      "*** PROGRAM END ***\n",
      "\n"
     ]
    }
   ],
   "source": [
    "# program end\n",
    "end_time = datetime.now().replace(microsecond=0)\n",
    "delta_time = end_time - start_time\n",
    "\n",
    "print()\n",
    "print(\"End process:\", end_time)\n",
    "print(\"Time to finish:\", delta_time)\n",
    "print()\n",
    "\n",
    "print()\n",
    "print(\"*** PROGRAM END ***\")\n",
    "print()"
   ]
  }
 ],
 "metadata": {
  "kernelspec": {
   "display_name": "Python 3",
   "language": "python",
   "name": "python3"
  },
  "language_info": {
   "codemirror_mode": {
    "name": "ipython",
    "version": 3
   },
   "file_extension": ".py",
   "mimetype": "text/x-python",
   "name": "python",
   "nbconvert_exporter": "python",
   "pygments_lexer": "ipython3",
   "version": "3.12.2"
  }
 },
 "nbformat": 4,
 "nbformat_minor": 2
}
