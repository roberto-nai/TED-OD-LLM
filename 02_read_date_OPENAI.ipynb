{
 "cells": [
  {
   "cell_type": "code",
   "execution_count": 19,
   "metadata": {},
   "outputs": [],
   "source": [
    "# 02_read_date_OPENAI.ipynb\n",
    "# Reads the PDFs and extracts the portion of text contained in the section 'Modalità di apertura delle offerte'; the texts are saved in a CSV file.\n",
    "# Use https://openai.com/"
   ]
  },
  {
   "cell_type": "code",
   "execution_count": 20,
   "metadata": {},
   "outputs": [],
   "source": [
    "# Force to reload extrernal modules every new cell execution\n",
    "%reload_ext autoreload\n",
    "%autoreload 2"
   ]
  },
  {
   "cell_type": "code",
   "execution_count": 21,
   "metadata": {},
   "outputs": [],
   "source": [
    "### IMPORT ###\n",
    "from pathlib import Path\n",
    "import csv\n",
    "from datetime import datetime\n",
    "import pandas as pd\n",
    "import os \n",
    "from openai import OpenAI\n",
    "from dotenv import load_dotenv # Needed to load the contents of the .env file\n"
   ]
  },
  {
   "cell_type": "code",
   "execution_count": 22,
   "metadata": {},
   "outputs": [],
   "source": [
    "### LOCAL IMPORT ###\n",
    "from config import config_reader\n",
    "from utilities import read_csv_data_to_df, convert_dmy_to_ymd, left_join_df, calculate_accuracy"
   ]
  },
  {
   "cell_type": "code",
   "execution_count": 23,
   "metadata": {},
   "outputs": [],
   "source": [
    "### GLOBALS ###\n",
    "yaml_config = config_reader.config_read_yaml(\"config.yml\", \"config\")\n",
    "# print(yaml_config) # debug\n",
    "data_dir = str(yaml_config[\"DATA_DIR\"])\n",
    "bid_file_text = str(yaml_config[\"FILE_BID_TEXT\"])\n",
    "bid_file_text_date = str(yaml_config[\"FILE_BID_TEXT_DATE\"])\n",
    "bid_file_text_date_label = str(yaml_config[\"FILE_BID_TEXT_DATE_LABEL\"])\n",
    "openai_model_name = str(yaml_config[\"OPENAI_MODEL_NAME\"])\n",
    "csv_sep = str(yaml_config[\"CSV_SEP\"])\n",
    "sample_size = int(yaml_config[\"BID_SAMPLE_SIZE\"]) \n",
    "\n",
    "# OpenAI\n",
    "load_dotenv() # Load environment variables from the .env file\n",
    "openai_api_key = os.getenv(\"OPENAI_API_KEY\")\n",
    "suffix = \"OAI\" # CSV suffix containing LLM results"
   ]
  },
  {
   "cell_type": "code",
   "execution_count": 6,
   "metadata": {},
   "outputs": [],
   "source": [
    "### FUNCTIONS ###"
   ]
  },
  {
   "cell_type": "code",
   "execution_count": 24,
   "metadata": {},
   "outputs": [],
   "source": [
    "def llm_test(model_name:str) -> None:\n",
    "    \"\"\"\n",
    "    Test the connection to the LLM.\n",
    "    \n",
    "    Args:\n",
    "        model_name (str): Name of the model.\n",
    "    \"\"\"\n",
    "    client = OpenAI(api_key=os.getenv(\"OPENAI_API_KEY\"))\n",
    "    try:\n",
    "        stream = client.chat.completions.create(\n",
    "        model=model_name,\n",
    "        messages=[{\"role\": \"user\", \"content\": \"Say this is a test connection [OK]\"}],\n",
    "        stream=True,\n",
    "        )\n",
    "        for chunk in stream:\n",
    "                print(chunk.choices[0].delta.content or \"\", end=\"\")\n",
    "    except Exception as e:\n",
    "        print(f\"ERROR! An unexpected error occurred in LLM test connection: {e}\")"
   ]
  },
  {
   "cell_type": "code",
   "execution_count": 25,
   "metadata": {},
   "outputs": [],
   "source": [
    "def llm_find_date(text: str, model_name:str) -> str:\n",
    "    \"\"\"\n",
    "    Extracts and formats a date from a given text string using ChatGPT. The date is returned in the format dd/mm/yyyy.\n",
    "\n",
    "    Args:\n",
    "        text (str): The text from which the date needs to be extracted. It should contain a date in any recognisable format.\n",
    "        model_name (str): Name of the model.\n",
    "\n",
    "    Returns:\n",
    "        str: A string representing the date in dd/mm/yyyy format. If an error occurs, it returns the error message.\n",
    "    \"\"\"\n",
    "    client = OpenAI(api_key=os.getenv(\"OPENAI_API_KEY\"))\n",
    "\n",
    "    try:\n",
    "        chat_completion = client.chat.completions.create(\n",
    "            messages=[\n",
    "                        {\"role\": \"system\", \"content\": \"You are a helpful assistant in finding dates in Italian texts\"},\n",
    "                        {\"role\": \"user\", \"content\": f\"Please extract and format only the date in this Italian text as yyyy-mm-dd, without adding anything other than the date. Dates can be written as dd.mm.yyyy or dd/mm/yyyy and days and months less than 10 may not have the leading 0 (e.g.: 5.2.2016). Write -1 if date not found: {text}\"}\n",
    "                    ],\n",
    "            model=model_name,\n",
    "        )\n",
    "        # print(type(chat_completion)) # debug\n",
    "        # ChatCompletion(id='chatcmpl-9MrwkHcMyDloWUBVqAcWaSv9vr8B2', choices=[Choice(finish_reason='stop', index=0, logprobs=None, message=ChatCompletionMessage(content='25/02/2016', role='assistant', function_call=None, tool_calls=None))], created=1715237614, model='gpt-4-0613', object='chat.completion', system_fingerprint=None, usage=CompletionUsage(completion_tokens=6, prompt_tokens=132, total_tokens=138))\n",
    "        # The chat_completion vaiable contains a response object ChatCompletion that is is a list of data\n",
    "        # The textual response is in: choices[0] -> message -> content\n",
    "        chat_response = chat_completion.choices[0].message.content.strip()\n",
    "        print(\"LLM output:\", chat_response) # debug\n",
    "        print(\"-\"*3)\n",
    "        return chat_response\n",
    "        # for more than one response: generated_texts = [choice.message[\"content\"].strip() for choice in chat_completion[\"choices\"]]\n",
    "    except Exception as e:\n",
    "        print(f\"ERROR! An unexpected error occurred in LLM find date: {e}\")\n",
    "        return None"
   ]
  },
  {
   "cell_type": "code",
   "execution_count": 26,
   "metadata": {},
   "outputs": [],
   "source": [
    "def process_row(row: pd.Series, model_name:str) -> str:\n",
    "    \"\"\"\n",
    "    Process a single row of the DataFrame. If the 'text' field is not None, call llm_find_date() with the 'text'.\n",
    "\n",
    "    Args:\n",
    "        row (pd.Series): A pandas Series object representing a single row.\n",
    "        model_name (str): Name of the model.\n",
    "    Returns:\n",
    "        str: The date string returned by llm_find_date if 'text' is not None; otherwise, None.\n",
    "    \"\"\"\n",
    "    if pd.notnull(row['text']):\n",
    "        print(\"LLM input:\", row['text'])\n",
    "        return llm_find_date(row['text'], model_name)\n",
    "    return None  # Return None if 'text' is None"
   ]
  },
  {
   "cell_type": "code",
   "execution_count": 27,
   "metadata": {},
   "outputs": [
    {
     "name": "stdout",
     "output_type": "stream",
     "text": [
      "\n",
      "*** PROGRAM START ***\n",
      "\n",
      "Start process: 2024-05-27 10:35:42\n",
      "\n"
     ]
    }
   ],
   "source": [
    "### MAIN ###\n",
    "print()\n",
    "print(\"*** PROGRAM START ***\")\n",
    "print()\n",
    "\n",
    "start_time = datetime.now().replace(microsecond=0)\n",
    "print(\"Start process:\", str(start_time))\n",
    "print()"
   ]
  },
  {
   "cell_type": "code",
   "execution_count": 28,
   "metadata": {},
   "outputs": [
    {
     "name": "stdout",
     "output_type": "stream",
     "text": [
      ">> Reading CSV file\n",
      "File: data/bid_opening_text.csv\n",
      "Reading CSV with input col_type...\n",
      "Rows in dataframe: 1063\n",
      "Columns in dataframe: Index(['file_name', 'case_id', 'text'], dtype='object')\n",
      "\n"
     ]
    }
   ],
   "source": [
    "# Reading CSV file text and dates to be extracted by LLM\n",
    "print(\">> Reading CSV file\")\n",
    "path_bid_text = Path(data_dir) / bid_file_text\n",
    "print(\"File:\", str(path_bid_text))\n",
    "dic_type = {\"file_name\":object, \"case_id\":object, \"text\":object}\n",
    "df_bid_text = read_csv_data_to_df(path_bid_text, dic_type, csv_sep)\n",
    "df_bid_text_len = len(df_bid_text)\n",
    "print(\"Rows in dataframe:\", df_bid_text_len)\n",
    "print(\"Columns in dataframe:\", df_bid_text.columns)\n",
    "print()"
   ]
  },
  {
   "cell_type": "code",
   "execution_count": 29,
   "metadata": {},
   "outputs": [
    {
     "name": "stdout",
     "output_type": "stream",
     "text": [
      ">> Reading the annotated dataset (with dates as labels)\n",
      "Path: data/bid_opening_text_date_label.csv\n",
      "Reading CSV with input col_type...\n",
      "Rows in dataframe with labels: 1063\n",
      "Columns in dataframe with labels: Index(['file_name', 'case_id', 'text'], dtype='object')\n"
     ]
    }
   ],
   "source": [
    "# Reading CSV file text and annotated as labels\n",
    "print(\">> Reading the annotated dataset (with dates as labels)\")\n",
    "path_csv_label = Path(data_dir) / bid_file_text_date_label\n",
    "print(\"Path:\", str(path_csv_label))\n",
    "dic_type = {\"file_name\":object, \"text\":object, \"label\":object}\n",
    "df_label = read_csv_data_to_df(path_csv_label, dic_type, csv_sep)\n",
    "# Convert labels\n",
    "df_label['label_ymd'] = df_label['label'].apply(convert_dmy_to_ymd)\n",
    "# Replace empty cells (not found) with -1\n",
    "df_label.loc[df_label['label_ymd'].isna(), 'label_ymd'] = \"-1\"\n",
    "print(\"Rows in dataframe with labels:\", df_bid_text_len)\n",
    "print(\"Columns in dataframe with labels:\", df_bid_text.columns)"
   ]
  },
  {
   "cell_type": "code",
   "execution_count": 30,
   "metadata": {},
   "outputs": [
    {
     "name": "stdout",
     "output_type": "stream",
     "text": [
      ">> Testing LLM connection\n",
      "Model name: gpt-3.5-turbo\n",
      "This is a test connection [OK]"
     ]
    }
   ],
   "source": [
    "# Testing the connection to LLM\n",
    "print(\">> Testing LLM connection\")\n",
    "# print(\"Open API key:\", openai_api_key) # debug\n",
    "print(\"Model name:\", openai_model_name)\n",
    "llm_test(openai_model_name)"
   ]
  },
  {
   "cell_type": "code",
   "execution_count": 31,
   "metadata": {},
   "outputs": [
    {
     "name": "stdout",
     "output_type": "stream",
     "text": [
      ">> Reading CSV text and querying LLM\n",
      "Using a sample of size 10\n",
      "Query at LLM started\n",
      "\n",
      "LLM input: Data: 10/11/2020|Ora locale: 09:00\n",
      "LLM output: -1\n",
      "---\n",
      "LLM input: Data: 26.5.2016 - 9:30|Luogo:|vedi art. 12 delle Norme di gara|Persone ammesse ad assistere all'apertura delle offerte: sì|Informazioni complementari sulle persone ammesse e la procedura di apertura: Legali rappresentanti delle ditte |partecipanti o loro delegati, nelle sedute pubbliche.\n",
      "LLM output: 2016-05-26\n",
      "---\n",
      "LLM input: Data: 02/05/2018|Ora locale: 10:00|Informazioni relative alle persone ammesse e alla procedura di apertura:|Legale rappresentante dell'impresa concorrente o altri soggetti, uno per ogni concorrente, muniti di specifica |delega loro conferita dai legali rappresentanti.\n",
      "LLM output: 2018-05-02\n",
      "---\n",
      "LLM input: Data: 19/11/2016|Ora locale: 9:00|Luogo:|Comune di Lavagna, Piazza della Libertà 47.|Informazioni relative alle persone ammesse e alla procedura di apertura:|Si rinvia al disciplinare di gara.\n",
      "LLM output: 2016-11-19\n",
      "---\n",
      "LLM input: Data: 27/05/2019|Ora locale: 09:30|Luogo:|Sede municipale del Comune di Legnago, via XX Settembre 29.|Informazioni relative alle persone ammesse e alla procedura di apertura:|Rappresentanti legali/procuratori i soggetti muniti di specifica delega degli operatori economici\n",
      "LLM output: -1\n",
      "---\n",
      "LLM input: Data: 07/05/2021|Ora locale: 10:00\n",
      "LLM output: -1\n",
      "---\n",
      "LLM input: Data: 05/12/2018|Ora locale: 09:30|Luogo:|Udine — Via Lionello 1|Informazioni relative alle persone ammesse e alla procedura di apertura:|Persone ammesse ad assistere all’apertura delle offerte: seduta pubblica\n",
      "LLM output: 2018-12-05\n",
      "---\n",
      "LLM input: Data: 16/04/2018|Ora locale: 09:00|Luogo:|Saletta Pre-Consiglio del Comune di Cuneo (Palazzo Municipale, 1° piano), via Roma 28, 12100 Cuneo.\n",
      "LLM output: 2018-04-16\n",
      "---\n",
      "LLM input: Data: 02/12/2019|Ora locale: 09:30|Luogo:|Procedura telematica tramite piattaforma regionale SATER: https://piattaformaintercenter.regione.emilia-|romagna.it\n",
      "LLM output: -1\n",
      "---\n",
      "LLM input: Data: 28.11.2018 - 10:00|Luogo:|Tarcento, Piazza Roma 7|Persone ammesse ad assistere all'apertura delle offerte: sì|Informazioni complementari sulle persone ammesse e la procedura di apertura: La procedura è di evidenza |pubblica.\n",
      "LLM output: 2018-11-28\n",
      "---\n",
      "\n",
      "Query at LLM concluded\n",
      "\n"
     ]
    }
   ],
   "source": [
    "# Parse the files\n",
    "print(\">> Reading CSV text and querying LLM\")\n",
    "\n",
    "# If sample_size is greater than 0 it extracts a sample of rows from the dataset\n",
    "if sample_size > 0:\n",
    "    if sample_size > df_bid_text_len:\n",
    "        sample_size = df_bid_text_len\n",
    "    print(f\"Using a sample of size {sample_size}\")\n",
    "    df_bid_text = df_bid_text.sample(n=sample_size)\n",
    "else:\n",
    "    print(\"Using the entire dataframe\")\n",
    "    df_bid_text = df_bid_text  # Optionally, you can add df_bid_text = df_bid_text.copy() to make it explicit that no sampling is applied\n",
    "print()\n",
    "\n",
    "# Applies LLM on the dataframe \n",
    "print(\"Query at LLM started\")\n",
    "print()\n",
    "df_bid_text['date'] = df_bid_text.apply(lambda row: process_row(row, openai_model_name), axis=1)\n",
    "print()\n",
    "print(\"Query at LLM concluded\")\n",
    "print()"
   ]
  },
  {
   "cell_type": "code",
   "execution_count": 13,
   "metadata": {},
   "outputs": [
    {
     "name": "stdout",
     "output_type": "stream",
     "text": [
      ">> New data obtained from LLM\n",
      "Rows in dataframe: 10\n",
      "Columns in dataframe: Index(['file_name', 'case_id', 'text', 'date'], dtype='object')\n",
      "                     file_name     case_id  \\\n",
      "620  2018-OJS109-249232-it.pdf  2018249232   \n",
      "665  2018-OJS145-332253-it.pdf  2018332253   \n",
      "366  2017-OJS105-211106-it.pdf  2017211106   \n",
      "760  2019-OJS033-074541-it.pdf   201974541   \n",
      "557  2018-OJS069-153132-it.pdf  2018153132   \n",
      "\n",
      "                                                  text        date  \n",
      "620  Data: 16.7.2018 - 09:00|Luogo:|Ufficio Gare Pr...  2018-07-16  \n",
      "665                 Data: 05/09/2018|Ora locale: 11:00  2018-09-05  \n",
      "366  Data: 29.6.2017 - 10:00|Persone ammesse ad ass...  2017-06-29  \n",
      "760  Data: 26/03/2019|Ora locale: 09:30|Luogo:|Pres...  2019-03-26  \n",
      "557  Data: 21/05/2018|Ora locale: 08:30|Luogo:|Unio...  2018-05-21  \n",
      "\n"
     ]
    }
   ],
   "source": [
    "print(\">> New data obtained from LLM\")\n",
    "# df_bid_text['date'].fillna(\"-1\", inplace=True)\n",
    "# Replace empty cells (not found) with -1\n",
    "df_bid_text.loc[df_bid_text['date'].isna(), 'date'] = \"-1\"\n",
    "df_bid_text_len = len(df_bid_text)\n",
    "print(\"Rows in dataframe:\", df_bid_text_len)\n",
    "print(\"Columns in dataframe:\", df_bid_text.columns)\n",
    "print(df_bid_text.head())\n",
    "print()"
   ]
  },
  {
   "cell_type": "code",
   "execution_count": 14,
   "metadata": {},
   "outputs": [
    {
     "name": "stdout",
     "output_type": "stream",
     "text": [
      ">> Saving bid opening texts and dates\n",
      "Dataframe with dates shape: (10, 4)\n",
      "Path: data/bid_opening_text_date_OAI.csv\n",
      "\n"
     ]
    }
   ],
   "source": [
    "# Create a file with the texts extracted from the PDFs\n",
    "print(\">> Saving bid opening texts and dates\")\n",
    "print(\"Dataframe with dates shape:\", df_bid_text.shape)  # should be same shape as df_label\n",
    "file_name = Path(bid_file_text_date).stem # get the general filename without extension\n",
    "file_name_csv = f\"{file_name}_{suffix}.csv\"\n",
    "path_out = Path(data_dir) / file_name_csv\n",
    "print(\"Path:\", path_out)\n",
    "df_bid_text.to_csv(path_out, sep=csv_sep, index=False, quoting=csv.QUOTE_ALL)\n",
    "print()"
   ]
  },
  {
   "cell_type": "code",
   "execution_count": 15,
   "metadata": {},
   "outputs": [
    {
     "name": "stdout",
     "output_type": "stream",
     "text": [
      ">> Checking accuracy against the annotated dataset\n",
      "Dates from LLM length: 9\n",
      "Dates from LABELS length: 993\n",
      "\n",
      "Dataframe joint for accuracy\n",
      "Dataframe length: 9\n",
      "                   file_name     case_id        date       label   label_ymd\n",
      "0  2018-OJS109-249232-it.pdf  2018249232  2018-07-16  16/07/2018  2018-07-16\n",
      "1  2018-OJS145-332253-it.pdf  2018332253  2018-09-05  05/09/2018  2018-09-05\n",
      "2  2017-OJS105-211106-it.pdf  2017211106  2017-06-29  29/06/2017  2017-06-29\n",
      "3  2019-OJS033-074541-it.pdf   201974541  2019-03-26  26/03/2019  2019-03-26\n",
      "4  2018-OJS069-153132-it.pdf  2018153132  2018-05-21  21/05/2018  2018-05-21\n",
      "Index(['file_name', 'case_id', 'date', 'label', 'label_ymd'], dtype='object')\n",
      "\n"
     ]
    }
   ],
   "source": [
    "# Checking accuracy against the annotated dataset\n",
    "print(\">> Checking accuracy against the annotated dataset\")\n",
    "\n",
    "# Only extracts dates found (!= -1)\n",
    "df_bid_text = df_bid_text[df_bid_text['date'] != \"-1\"]\n",
    "print(\"Dates from LLM length:\", len(df_bid_text)) # should be same length as label_dates_list\n",
    "\n",
    "# Only extracts labels (!= -1)\n",
    "df_label = df_label[df_label['label_ymd'] != \"-1\"]\n",
    "print(\"Dates from LABELS length:\", len(df_label))  # should be same length as llm_dates_list\n",
    "\n",
    "print()\n",
    "\n",
    "# Merges the dataset from which the dates were extracted with the one containing the labels\n",
    "key_col = \"file_name\" # Key column on which to perform the join\n",
    "col_del = [\"text\"] # List of columns to be removed from the join\n",
    "merged_df = left_join_df(df_bid_text, df_label, key_col, col_del)\n",
    "\n",
    "print(\"Dataframe joint for accuracy\")\n",
    "print(\"Dataframe length:\", len(merged_df))\n",
    "print(merged_df.head())\n",
    "print(merged_df.columns)\n",
    "print()\n"
   ]
  },
  {
   "cell_type": "code",
   "execution_count": 16,
   "metadata": {},
   "outputs": [
    {
     "name": "stdout",
     "output_type": "stream",
     "text": [
      "Accuracy: 1.00 over a sample of 9 rows\n",
      "\n"
     ]
    }
   ],
   "source": [
    "# Computing precision\n",
    "accuracy = calculate_accuracy(merged_df, \"date\", \"label_ymd\")\n",
    "print(f\"Accuracy: {accuracy:.2f} over a sample of {len(merged_df)} rows\")\n",
    "print()"
   ]
  },
  {
   "cell_type": "code",
   "execution_count": 17,
   "metadata": {},
   "outputs": [
    {
     "name": "stdout",
     "output_type": "stream",
     "text": [
      "\n",
      "End process: 2024-05-27 10:30:35\n",
      "Time to finish: 0:00:36\n",
      "\n",
      "\n",
      "*** PROGRAM END ***\n",
      "\n"
     ]
    }
   ],
   "source": [
    "# program end\n",
    "end_time = datetime.now().replace(microsecond=0)\n",
    "delta_time = end_time - start_time\n",
    "\n",
    "print()\n",
    "print(\"End process:\", end_time)\n",
    "print(\"Time to finish:\", delta_time)\n",
    "print()\n",
    "\n",
    "print()\n",
    "print(\"*** PROGRAM END ***\")\n",
    "print()"
   ]
  }
 ],
 "metadata": {
  "kernelspec": {
   "display_name": "Python 3",
   "language": "python",
   "name": "python3"
  },
  "language_info": {
   "codemirror_mode": {
    "name": "ipython",
    "version": 3
   },
   "file_extension": ".py",
   "mimetype": "text/x-python",
   "name": "python",
   "nbconvert_exporter": "python",
   "pygments_lexer": "ipython3",
   "version": "3.12.2"
  }
 },
 "nbformat": 4,
 "nbformat_minor": 2
}
