{
 "cells": [
  {
   "cell_type": "code",
   "execution_count": 1,
   "metadata": {},
   "outputs": [],
   "source": [
    "# 02_read_date.ipynb\n",
    "# Reads the PDFs and extracts the portion of text contained in the section 'Modalità di apertura delle offerte'; the texts are saved in a CSV file.      "
   ]
  },
  {
   "cell_type": "code",
   "execution_count": 34,
   "metadata": {},
   "outputs": [],
   "source": [
    "# Force to reload extrernal modules every new cell execution\n",
    "%reload_ext autoreload\n",
    "%autoreload 2"
   ]
  },
  {
   "cell_type": "code",
   "execution_count": 3,
   "metadata": {},
   "outputs": [],
   "source": [
    "### IMPORT ###\n",
    "from pathlib import Path\n",
    "import csv\n",
    "from datetime import datetime\n",
    "import pandas as pd\n",
    "import os \n",
    "from openai import OpenAI\n",
    "from dotenv import load_dotenv # Needed to load the contents of the .env file\n"
   ]
  },
  {
   "cell_type": "code",
   "execution_count": 35,
   "metadata": {},
   "outputs": [],
   "source": [
    "### LOCAL IMPORT ###\n",
    "from config import config_reader\n",
    "from utilities import read_csv_data_to_df, convert_dmy_to_ymd, left_join_df, calculate_accuracy"
   ]
  },
  {
   "cell_type": "code",
   "execution_count": 5,
   "metadata": {},
   "outputs": [],
   "source": [
    "### GLOBALS ###\n",
    "yaml_config = config_reader.config_read_yaml(\"config.yml\", \"config\")\n",
    "# print(yaml_config) # debug\n",
    "data_dir = str(yaml_config[\"DATA_DIR\"])\n",
    "bid_file_text = str(yaml_config[\"FILE_BID_TEXT\"])\n",
    "bid_file_text_date = str(yaml_config[\"FILE_BID_TEXT_DATE\"])\n",
    "bid_file_text_date_label = str(yaml_config[\"FILE_BID_TEXT_DATE_LABEL\"])\n",
    "openai_model_name = str(yaml_config[\"OPENAI_MODEL_NAME\"])\n",
    "csv_sep = str(yaml_config[\"CSV_SEP\"])\n",
    "# OpenAI\n",
    "load_dotenv() # Load environment variables from the .env file\n",
    "openai_api_key = os.getenv(\"OPENAI_API_KEY\")"
   ]
  },
  {
   "cell_type": "code",
   "execution_count": 6,
   "metadata": {},
   "outputs": [],
   "source": [
    "### FUNCTIONS ###"
   ]
  },
  {
   "cell_type": "code",
   "execution_count": 7,
   "metadata": {},
   "outputs": [],
   "source": [
    "def llm_test(model_name:str) -> None:\n",
    "    \"\"\"\n",
    "    Test the connection to the LLM.\n",
    "    \n",
    "    Args:\n",
    "        model_name (str): Name of the model.\n",
    "    \"\"\"\n",
    "    client = OpenAI(api_key=os.getenv(\"OPENAI_API_KEY\"))\n",
    "    try:\n",
    "        stream = client.chat.completions.create(\n",
    "        model=model_name,\n",
    "        messages=[{\"role\": \"user\", \"content\": \"Say this is a test connection [OK]\"}],\n",
    "        stream=True,\n",
    "        )\n",
    "        for chunk in stream:\n",
    "                print(chunk.choices[0].delta.content or \"\", end=\"\")\n",
    "    except Exception as e:\n",
    "        print(f\"ERROR! An unexpected error occurred in LLM test connection: {e}\")"
   ]
  },
  {
   "cell_type": "code",
   "execution_count": 8,
   "metadata": {},
   "outputs": [],
   "source": [
    "def llm_find_date(text: str, model_name:str) -> str:\n",
    "    \"\"\"\n",
    "    Extracts and formats a date from a given text string using ChatGPT. The date is returned in the format dd/mm/yyyy.\n",
    "\n",
    "    Args:\n",
    "        text (str): The text from which the date needs to be extracted. It should contain a date in any recognisable format.\n",
    "        model_name (str): Name of the model.\n",
    "\n",
    "    Returns:\n",
    "        str: A string representing the date in dd/mm/yyyy format. If an error occurs, it returns the error message.\n",
    "    \"\"\"\n",
    "    client = OpenAI(api_key=os.getenv(\"OPENAI_API_KEY\"))\n",
    "\n",
    "    try:\n",
    "        chat_completion = client.chat.completions.create(\n",
    "            messages=[\n",
    "                        {\"role\": \"system\", \"content\": \"You are a helpful assistant in finding dates in Italian texts\"},\n",
    "                        {\"role\": \"user\", \"content\": f\"Please extract and format only the date in this Italian text as yyyy-mm-dd, without adding anything other than the date. Dates can be written as dd.mm.yyyy or dd/mm/yyyy and days and months less than 10 may not have the leading 0 (e.g.: 5.2.2016). Write -1 if date not found: {text}\"}\n",
    "                    ],\n",
    "            model=model_name,\n",
    "        )\n",
    "        # print(type(chat_completion)) # debug\n",
    "        # ChatCompletion(id='chatcmpl-9MrwkHcMyDloWUBVqAcWaSv9vr8B2', choices=[Choice(finish_reason='stop', index=0, logprobs=None, message=ChatCompletionMessage(content='25/02/2016', role='assistant', function_call=None, tool_calls=None))], created=1715237614, model='gpt-4-0613', object='chat.completion', system_fingerprint=None, usage=CompletionUsage(completion_tokens=6, prompt_tokens=132, total_tokens=138))\n",
    "        # The chat_completion vaiable contains a response object ChatCompletion that is is a list of data\n",
    "        # The textual response is in: choices[0] -> message -> content\n",
    "        chat_response = chat_completion.choices[0].message.content.strip()\n",
    "        print(\"LLM output:\", chat_response) # debug\n",
    "        return chat_response\n",
    "        # for more than one response: generated_texts = [choice.message[\"content\"].strip() for choice in chat_completion[\"choices\"]]\n",
    "    except Exception as e:\n",
    "        print(f\"ERROR! An unexpected error occurred in LLM find date: {e}\")\n",
    "        return None"
   ]
  },
  {
   "cell_type": "code",
   "execution_count": 9,
   "metadata": {},
   "outputs": [],
   "source": [
    "def process_row(row: pd.Series, model_name:str) -> str:\n",
    "    \"\"\"\n",
    "    Process a single row of the DataFrame. If the 'text' field is not None, call llm_find_date() with the 'text'.\n",
    "\n",
    "    Args:\n",
    "        row (pd.Series): A pandas Series object representing a single row.\n",
    "        model_name (str): Name of the model.\n",
    "    Returns:\n",
    "        str: The date string returned by llm_find_date if 'text' is not None; otherwise, None.\n",
    "    \"\"\"\n",
    "    if pd.notnull(row['text']):\n",
    "        print(\"LLM input:\", row['text'])\n",
    "        return llm_find_date(row['text'], model_name)\n",
    "    return None  # Return None if 'text' is None"
   ]
  },
  {
   "cell_type": "code",
   "execution_count": 10,
   "metadata": {},
   "outputs": [
    {
     "name": "stdout",
     "output_type": "stream",
     "text": [
      "\n",
      "*** PROGRAM START ***\n",
      "\n",
      "Start process: 2024-05-16 09:02:50\n",
      "\n"
     ]
    }
   ],
   "source": [
    "### MAIN ###\n",
    "print()\n",
    "print(\"*** PROGRAM START ***\")\n",
    "print()\n",
    "\n",
    "start_time = datetime.now().replace(microsecond=0)\n",
    "print(\"Start process:\", str(start_time))\n",
    "print()"
   ]
  },
  {
   "cell_type": "code",
   "execution_count": 20,
   "metadata": {},
   "outputs": [
    {
     "name": "stdout",
     "output_type": "stream",
     "text": [
      ">> Reading CSV file\n",
      "File: data/bid_opening_text.csv\n",
      "Reading CSV with input col_type...\n",
      "Rows in dataframe: 1063\n",
      "Columns in dataframe: Index(['file_name', 'case_id', 'text'], dtype='object')\n",
      "\n"
     ]
    }
   ],
   "source": [
    "# Reading CSV file text and dates to be extracted by LLM\n",
    "print(\">> Reading CSV file\")\n",
    "path_bid_text = Path(data_dir) / bid_file_text\n",
    "print(\"File:\", str(path_bid_text))\n",
    "dic_type = {\"file_name\":object, \"case_id\":object, \"text\":object}\n",
    "df_bid_text = read_csv_data_to_df(path_bid_text, dic_type, csv_sep)\n",
    "df_bid_text_len = len(df_bid_text)\n",
    "print(\"Rows in dataframe:\", df_bid_text_len)\n",
    "print(\"Columns in dataframe:\", df_bid_text.columns)\n",
    "print()"
   ]
  },
  {
   "cell_type": "code",
   "execution_count": 21,
   "metadata": {},
   "outputs": [
    {
     "name": "stdout",
     "output_type": "stream",
     "text": [
      ">> Reading the annotated dataset (with dates as labels)\n",
      "Path: data/bid_opening_text_date_label.csv\n",
      "Reading CSV with input col_type...\n",
      "Rows in dataframe with labels: 1063\n",
      "Columns in dataframe with labels: Index(['file_name', 'case_id', 'text'], dtype='object')\n"
     ]
    }
   ],
   "source": [
    "print(\">> Reading the annotated dataset (with dates as labels)\")\n",
    "path_csv_label = Path(data_dir) / bid_file_text_date_label\n",
    "print(\"Path:\", str(path_csv_label))\n",
    "dic_type = {\"file_name\":object, \"text\":object, \"label\":object}\n",
    "df_label = read_csv_data_to_df(path_csv_label, dic_type, csv_sep)\n",
    "# Convert labels\n",
    "df_label['label_ymd'] = df_label['label'].apply(convert_dmy_to_ymd)\n",
    "# Replace empty cells (not found) with -1\n",
    "df_label.loc[df_label['label_ymd'].isna(), 'label_ymd'] = \"-1\"\n",
    "print(\"Rows in dataframe with labels:\", df_bid_text_len)\n",
    "print(\"Columns in dataframe with labels:\", df_bid_text.columns)"
   ]
  },
  {
   "cell_type": "code",
   "execution_count": 22,
   "metadata": {},
   "outputs": [
    {
     "name": "stdout",
     "output_type": "stream",
     "text": [
      ">> Testing LLM connection\n",
      "Model name: gpt-3.5-turbo\n",
      "This is a test connection [OK]."
     ]
    }
   ],
   "source": [
    "# Testing the connection to LLM\n",
    "print(\">> Testing LLM connection\")\n",
    "# print(\"Open API key:\", openai_api_key) # debug\n",
    "print(\"Model name:\", openai_model_name)\n",
    "llm_test(openai_model_name)"
   ]
  },
  {
   "cell_type": "code",
   "execution_count": 26,
   "metadata": {},
   "outputs": [
    {
     "name": "stdout",
     "output_type": "stream",
     "text": [
      ">> Reading CSV text and querying LLM\n",
      "LLM input: Data: 15/12/2020|Ora locale: 14:30|Luogo:|la prima seduta pubblica avrà luogo presso la sede di piazza Liber Paradisus 10, torre B, piano 0 e si svolgerà |in modalità virtuale attraverso la piattaforma Sater.|Informazioni relative alle persone ammesse e alla procedura di apertura:|Gli operatori economici partecipanti alla procedura di gara che abbiano presentato offerta potranno visualizzare |l’andamento dell’attività di verifica della documentazione amministrativa, seguendo le istruzioni riportate |nell’apposita guida per l’utilizzo della piattaforma, accessibili dal sito: http://intercenter.regione.emilia-romagna.it/|agenzia/utilizzo-del-sistema/guide/\n",
      "LLM output: 15-12-2020\n",
      "LLM input: Data: 10/12/2019|Ora locale: 09:30|Luogo:|Comune di Pisa|Informazioni relative alle persone ammesse e alla procedura di apertura:|Legale rappresentante o procuratore dei concorrenti.\n",
      "LLM output: -1\n",
      "LLM input: Data: 24/10/2019|Ora locale: 16:00|Luogo:|Presso Azienda speciale servizi pubblici locali - Via Mazzini 15 - Castelfranco di Sotto - PI\n",
      "LLM output: 2019-10-24\n",
      "LLM input: Data: 03/08/2020|Ora locale: 13:00|Luogo:|Sede municipale piazza Costituzione n4, 37047 San Bonifacio (VR) — 1o piano.\n",
      "LLM output: -1\n",
      "LLM input: Data: 22.3.2016 - 9:30|Persone ammesse ad assistere all'apertura delle offerte: sì|Informazioni complementari sulle persone ammesse e la procedura di apertura: Legali rappresentanti delle |compagnie partecipanti o loro delegati.\n",
      "LLM output: 2016-03-22\n",
      "LLM input: Data: 30/05/2018|Ora locale: 11:30|Luogo:|Provincia di Como.|Informazioni relative alle persone ammesse e alla procedura di apertura:|Legale rappresentante dell'impresa concorrente o altri soggetti, uno per ogni concorrente, muniti di specifica |delega loro conferita dai legali rappresentanti.\n",
      "LLM output: 2018-05-30\n",
      "LLM input: Data: 11/10/2018|Ora locale: 14:00|Luogo:|Pinerolo (TO) — Via Montebello 39|Informazioni relative alle persone ammesse e alla procedura di apertura:|Alla prima seduta pubblica potranno partecipare i legali rappresentanti/procuratori delle imprese interessate|Oppure persone munite di specifica delega.\n",
      "LLM output: 2018-10-11\n",
      "LLM input: Data: 28/01/2019|Ora locale: 11:00|Luogo:|Punto I.1|Informazioni relative alle persone ammesse e alla procedura di apertura:|Alle sedute pubbliche di gara potrà assistere ogni concorrente collegandosi da remoto a Sistema tramite propria |infrastruttura telematica.|Per le modalità si rinvia alle istruzioni contenute nel Disciplinare di gara.\n",
      "LLM output: 2019-01-28\n",
      "LLM input: Data: 18/12/2018|Ora locale: 12:30|Luogo:|Comune di Suzzara.|Informazioni relative alle persone ammesse e alla procedura di apertura:|Vedi art. 9 del Disciplinare di gara.\n",
      "LLM output: 2018-12-18\n",
      "LLM input: Data: 11.5.2016 - 9:30|Luogo:|Seriate (BG), Piazza Alebardi 1.|Persone ammesse ad assistere all'apertura delle offerte: sì|Informazioni complementari sulle persone ammesse e la procedura di apertura: Rappresentanti legali e/o |delegati delle imprese partecipanti.\n",
      "LLM output: -1\n",
      "\n"
     ]
    }
   ],
   "source": [
    "# Parse the files\n",
    "print(\">> Reading CSV text and querying LLM\")\n",
    "# If you only want a sample of the rows, uncomment the following line to extract a random sample of 10 rows\n",
    "df_bid_text = df_bid_text.sample(n=10)\n",
    "\n",
    "# Applies LLM on the entire dataframe \n",
    "df_bid_text['date'] = df_bid_text.apply(lambda row: process_row(row, openai_model_name), axis=1)\n",
    "print()"
   ]
  },
  {
   "cell_type": "code",
   "execution_count": 27,
   "metadata": {},
   "outputs": [
    {
     "name": "stdout",
     "output_type": "stream",
     "text": [
      ">> New data obtained from LLM\n",
      "Rows in dataframe: 10\n",
      "Columns in dataframe: Index(['file_name', 'case_id', 'text', 'date'], dtype='object')\n",
      "                      file_name     case_id  \\\n",
      "1020  2020-OJS232-570013-it.pdf  2020570013   \n",
      "923   2019-OJS219-537848-it.pdf  2019537848   \n",
      "892   2019-OJS177-431337-it.pdf  2019431337   \n",
      "978   2020-OJS142-349658-it.pdf  2020349658   \n",
      "9     2016-OJS029-047040-it.pdf   201647040   \n",
      "\n",
      "                                                   text        date  \n",
      "1020  Data: 15/12/2020|Ora locale: 14:30|Luogo:|la p...  15-12-2020  \n",
      "923   Data: 10/12/2019|Ora locale: 09:30|Luogo:|Comu...          -1  \n",
      "892   Data: 24/10/2019|Ora locale: 16:00|Luogo:|Pres...  2019-10-24  \n",
      "978   Data: 03/08/2020|Ora locale: 13:00|Luogo:|Sede...          -1  \n",
      "9     Data: 22.3.2016 - 9:30|Persone ammesse ad assi...  2016-03-22  \n",
      "\n"
     ]
    }
   ],
   "source": [
    "print(\">> New data obtained from LLM\")\n",
    "# df_bid_text['date'].fillna(\"-1\", inplace=True)\n",
    "# Replace empty cells (not found) with -1\n",
    "df_bid_text.loc[df_bid_text['date'].isna(), 'date'] = \"-1\"\n",
    "df_bid_text_len = len(df_bid_text)\n",
    "print(\"Rows in dataframe:\", df_bid_text_len)\n",
    "print(\"Columns in dataframe:\", df_bid_text.columns)\n",
    "print(df_bid_text.head())\n",
    "print()"
   ]
  },
  {
   "cell_type": "code",
   "execution_count": 28,
   "metadata": {},
   "outputs": [
    {
     "name": "stdout",
     "output_type": "stream",
     "text": [
      ">> Saving bid opening texts and dates\n",
      "Dataframe with dates shape: (10, 4)\n",
      "Path: data/bid_opening_text_date_OAI.csv\n"
     ]
    }
   ],
   "source": [
    "# Create a file with the texts extracted from the PDFs\n",
    "print(\">> Saving bid opening texts and dates\")\n",
    "print(\"Dataframe with dates shape:\", df_bid_text.shape)  # should be same shape as df_label\n",
    "file_name = Path(bid_file_text_date).stem # get the general filename without extension\n",
    "file_name_csv = f\"{file_name}_OAI.csv\"\n",
    "path_out = Path(data_dir) / file_name_csv\n",
    "print(\"Path:\", path_out)\n",
    "df_bid_text.to_csv(path_out, sep=csv_sep, index=False, quoting=csv.QUOTE_ALL)"
   ]
  },
  {
   "cell_type": "code",
   "execution_count": 36,
   "metadata": {},
   "outputs": [
    {
     "name": "stdout",
     "output_type": "stream",
     "text": [
      ">> Checking accuracy against the annotated dataset\n",
      "Dates from LLM length: 7\n",
      "Dates from LABELS length: 993\n",
      "\n",
      "Dataframe for accuracy\n",
      "Dataframe length: 7\n",
      "                   file_name     case_id        date       label   label_ymd\n",
      "0  2020-OJS232-570013-it.pdf  2020570013  15-12-2020  15/12/2020  2020-12-15\n",
      "1  2019-OJS177-431337-it.pdf  2019431337  2019-10-24  24/10/2019  2019-10-24\n",
      "2  2016-OJS029-047040-it.pdf   201647040  2016-03-22  22/03/2016  2016-03-22\n",
      "3  2018-OJS074-164801-it.pdf  2018164801  2018-05-30  30/05/2018  2018-05-30\n",
      "4  2018-OJS171-388821-it.pdf  2018388821  2018-10-11  11/10/2018  2018-10-11\n",
      "\n"
     ]
    }
   ],
   "source": [
    "# Checking accuracy against the annotated dataset\n",
    "print(\">> Checking accuracy against the annotated dataset\")\n",
    "\n",
    "# Only extracts dates found (!= -1)\n",
    "df_bid_text = df_bid_text[df_bid_text['date'] != \"-1\"]\n",
    "print(\"Dates from LLM length:\", len(df_bid_text)) # should be same length as label_dates_list\n",
    "\n",
    "# Only extracts labels (!= -1)\n",
    "df_label = df_label[df_label['label_ymd'] != \"-1\"]\n",
    "print(\"Dates from LABELS length:\", len(df_label))  # should be same length as llm_dates_list\n",
    "\n",
    "print()\n",
    "\n",
    "# Merges the dataset from which the dates were extracted with the one containing the labels\n",
    "merged_df = left_join_df(df_bid_text, df_label, \"file_name\")\n",
    "\n",
    "print(\"Dataframe for accuracy\")\n",
    "print(\"Dataframe length:\", len(merged_df))\n",
    "print(merged_df.head())\n",
    "print()\n"
   ]
  },
  {
   "cell_type": "code",
   "execution_count": 37,
   "metadata": {},
   "outputs": [
    {
     "name": "stdout",
     "output_type": "stream",
     "text": [
      "Accuracy: 0.86\n"
     ]
    }
   ],
   "source": [
    "# Computing precision\n",
    "accuracy = calculate_accuracy(merged_df, \"date\", \"label_ymd\")\n",
    "print(f\"Accuracy: {accuracy:.2f}\")\n",
    "print()"
   ]
  },
  {
   "cell_type": "code",
   "execution_count": 38,
   "metadata": {},
   "outputs": [
    {
     "name": "stdout",
     "output_type": "stream",
     "text": [
      "\n",
      "End process: 2024-05-16 09:35:07\n",
      "Time to finish: 0:32:17\n",
      "\n",
      "\n",
      "*** PROGRAM END ***\n",
      "\n"
     ]
    }
   ],
   "source": [
    "# program end\n",
    "end_time = datetime.now().replace(microsecond=0)\n",
    "delta_time = end_time - start_time\n",
    "\n",
    "print()\n",
    "print(\"End process:\", end_time)\n",
    "print(\"Time to finish:\", delta_time)\n",
    "print()\n",
    "\n",
    "print()\n",
    "print(\"*** PROGRAM END ***\")\n",
    "print()"
   ]
  }
 ],
 "metadata": {
  "kernelspec": {
   "display_name": "Python 3",
   "language": "python",
   "name": "python3"
  },
  "language_info": {
   "codemirror_mode": {
    "name": "ipython",
    "version": 3
   },
   "file_extension": ".py",
   "mimetype": "text/x-python",
   "name": "python",
   "nbconvert_exporter": "python",
   "pygments_lexer": "ipython3",
   "version": "3.12.2"
  }
 },
 "nbformat": 4,
 "nbformat_minor": 2
}
